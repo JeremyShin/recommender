{
 "cells": [
  {
   "cell_type": "markdown",
   "id": "8bff7b71-9c57-427d-a5d2-6a16aa1186a1",
   "metadata": {},
   "source": [
    "### 5.4 통계 정보나 특정 규칙에 기반한 추천\n",
    "- 아래와 같은 통계 정보나 규칙에 기반해 추천하는 것을 생각해보자\n",
    "  - 직전 1개월의 총 매출 수, 열람 수, 사용자에 따른 평가값의 평균 등 서비스의 데이터 통계 정보를 사용해 아이템을 나열해서 사용자에게 추천\n",
    "  - 아이템 가격이나 크기와 같이 특정 속성 순서로 나열해 사용자에게 추천\n",
    "  - 사용자의 나이 등과 같은 특정 속성 정보에 기반해 다른 아이템 추천\n",
    "\n",
    "- 통계 정보나 아이템 속성 정보에 기반한 추천은 기본적으로 개인화를 수행하지 않는 알고리즘 (구현하기가 비교적 쉬움)\n",
    "- 단순한 알고리즘을 사용한 추천은 아이템이 어떤 구조로 추천되는지 알기 쉽다는 특징이 있음\n",
    "  - 사용자가 추천 이유를 쉽게 안다면 구매 행동과 연결되는 경우가 있음\n",
    "- 사용자 속성 정보로 다른 아이템을 추천하는 경우, 사용자를 몇 가지 세그먼트로 나누고 각각의 사용자 세그먼트에 적합하게 추천하는 방법으로 진행\n",
    "- **데모그래픽 필터링** : 인구 통계학적 데이터(사용자의 나이, 성별, 거주지 등)에 기반해 아이템을 추천하는 것\n",
    "- 데모그래픽 필터링 주의점\n",
    "  - 사용자에 따라 데모그래픽 정보를 입력하지 않거나 잘못된 정보를 기입할 경우\n",
    "  - **공평성(fairness)** 관점 (사용자에게 성별을 뭍는 것 자체가 문제의 소지가 있음)\n",
    "- MovieLens 데이터셋을 사용해 사용자들이 과거에 남긴 평가값 중 값이 높은 순서로 추천하는 예시를 보자"
   ]
  },
  {
   "cell_type": "code",
   "execution_count": 1,
   "id": "e6880d4c-f103-4a89-9826-6bc4c6a37a9e",
   "metadata": {},
   "outputs": [],
   "source": [
    "# 부모 폴더의 경로 추가\n",
    "import sys; sys.path.insert(0, '.')\n",
    "\n",
    "from util.data_loader import DataLoader\n",
    "from util.metric_calculator import MetricCalculator"
   ]
  },
  {
   "cell_type": "code",
   "execution_count": 3,
   "id": "09b8a2ec-4a63-44fd-86c7-a8246f135e78",
   "metadata": {},
   "outputs": [],
   "source": [
    "# Movielens 데이터 로딩\n",
    "data_loader = DataLoader(num_users=1000, num_test_items=5, data_path='./data/ml-10M100K/')\n",
    "movielens = data_loader.load()"
   ]
  },
  {
   "cell_type": "code",
   "execution_count": 4,
   "id": "88f1fa87-067f-4e2b-a9e5-7005e5d01e65",
   "metadata": {},
   "outputs": [
    {
     "name": "stderr",
     "output_type": "stream",
     "text": [
      "/var/folders/hw/qxlf94851g5g0y_m9j7wxzj80000gn/T/ipykernel_31878/3872795521.py:4: FutureWarning: The provided callable <function mean at 0x10d0e1760> is currently using SeriesGroupBy.mean. In a future version of pandas, the provided callable will be used directly. To keep current behavior pass the string \"mean\" instead.\n",
      "  movie_stats = movielens.train.groupby(['movie_id', 'title']).agg({'rating': [np.size, np.mean]})\n"
     ]
    },
    {
     "data": {
      "text/html": [
       "<div>\n",
       "<style scoped>\n",
       "    .dataframe tbody tr th:only-of-type {\n",
       "        vertical-align: middle;\n",
       "    }\n",
       "\n",
       "    .dataframe tbody tr th {\n",
       "        vertical-align: top;\n",
       "    }\n",
       "\n",
       "    .dataframe thead tr th {\n",
       "        text-align: left;\n",
       "    }\n",
       "\n",
       "    .dataframe thead tr:last-of-type th {\n",
       "        text-align: right;\n",
       "    }\n",
       "</style>\n",
       "<table border=\"1\" class=\"dataframe\">\n",
       "  <thead>\n",
       "    <tr>\n",
       "      <th></th>\n",
       "      <th></th>\n",
       "      <th colspan=\"2\" halign=\"left\">rating</th>\n",
       "    </tr>\n",
       "    <tr>\n",
       "      <th></th>\n",
       "      <th></th>\n",
       "      <th>size</th>\n",
       "      <th>mean</th>\n",
       "    </tr>\n",
       "    <tr>\n",
       "      <th>movie_id</th>\n",
       "      <th>title</th>\n",
       "      <th></th>\n",
       "      <th></th>\n",
       "    </tr>\n",
       "  </thead>\n",
       "  <tbody>\n",
       "    <tr>\n",
       "      <th>4354</th>\n",
       "      <th>Unlawful Entry (1992)</th>\n",
       "      <td>1</td>\n",
       "      <td>5.0</td>\n",
       "    </tr>\n",
       "    <tr>\n",
       "      <th>27255</th>\n",
       "      <th>Wind Will Carry Us, The (Bad ma ra khahad bord) (1999)</th>\n",
       "      <td>1</td>\n",
       "      <td>5.0</td>\n",
       "    </tr>\n",
       "    <tr>\n",
       "      <th>7306</th>\n",
       "      <th>Herod's Law (La Ley de Herodes) (2000)</th>\n",
       "      <td>1</td>\n",
       "      <td>5.0</td>\n",
       "    </tr>\n",
       "    <tr>\n",
       "      <th>55814</th>\n",
       "      <th>Diving Bell and the Butterfly, The (Le Scaphandre et le papillon) (2007)</th>\n",
       "      <td>2</td>\n",
       "      <td>5.0</td>\n",
       "    </tr>\n",
       "    <tr>\n",
       "      <th>3473</th>\n",
       "      <th>Jonah Who Will Be 25 in the Year 2000 (Jonas qui aura 25 ans en l'an 2000) (1976)</th>\n",
       "      <td>1</td>\n",
       "      <td>5.0</td>\n",
       "    </tr>\n",
       "  </tbody>\n",
       "</table>\n",
       "</div>"
      ],
      "text/plain": [
       "                                                            rating     \n",
       "                                                              size mean\n",
       "movie_id title                                                         \n",
       "4354     Unlawful Entry (1992)                                   1  5.0\n",
       "27255    Wind Will Carry Us, The (Bad ma ra khahad bord)...      1  5.0\n",
       "7306     Herod's Law (La Ley de Herodes) (2000)                  1  5.0\n",
       "55814    Diving Bell and the Butterfly, The (Le Scaphand...      2  5.0\n",
       "3473     Jonah Who Will Be 25 in the Year 2000 (Jonas qu...      1  5.0"
      ]
     },
     "execution_count": 4,
     "metadata": {},
     "output_type": "execute_result"
    }
   ],
   "source": [
    "import numpy as np\n",
    "\n",
    "# 평갓값이 높은 영화 확인\n",
    "movie_stats = movielens.train.groupby(['movie_id', 'title']).agg({'rating': [np.size, np.mean]})\n",
    "movie_stats.sort_values(by=('rating', 'mean'), ascending=False).head()"
   ]
  },
  {
   "cell_type": "markdown",
   "id": "286d201a-7dc6-460e-a0d5-98cdf95bd515",
   "metadata": {},
   "source": [
    "- 평가값이 5인 영화가 나열되었지만 평가 수가 적어 5점의 평가가 상위였을 가능성도 있음\n",
    "- 평가 수가 적으면 신뢰성이 낮으므로 임곗값을 도입해 일정 이상의 평가 수가 있는 영화로 필터링"
   ]
  },
  {
   "cell_type": "code",
   "execution_count": 5,
   "id": "5f10c0bd-b2c8-4065-94ec-bcba66e95155",
   "metadata": {},
   "outputs": [
    {
     "name": "stderr",
     "output_type": "stream",
     "text": [
      "/var/folders/hw/qxlf94851g5g0y_m9j7wxzj80000gn/T/ipykernel_31878/1864623655.py:2: FutureWarning: The provided callable <function mean at 0x10d0e1760> is currently using SeriesGroupBy.mean. In a future version of pandas, the provided callable will be used directly. To keep current behavior pass the string \"mean\" instead.\n",
      "  movie_stats = movielens.train.groupby(['movie_id', 'title']).agg({'rating': [np.size, np.mean]})\n"
     ]
    },
    {
     "data": {
      "text/html": [
       "<div>\n",
       "<style scoped>\n",
       "    .dataframe tbody tr th:only-of-type {\n",
       "        vertical-align: middle;\n",
       "    }\n",
       "\n",
       "    .dataframe tbody tr th {\n",
       "        vertical-align: top;\n",
       "    }\n",
       "\n",
       "    .dataframe thead tr th {\n",
       "        text-align: left;\n",
       "    }\n",
       "\n",
       "    .dataframe thead tr:last-of-type th {\n",
       "        text-align: right;\n",
       "    }\n",
       "</style>\n",
       "<table border=\"1\" class=\"dataframe\">\n",
       "  <thead>\n",
       "    <tr>\n",
       "      <th></th>\n",
       "      <th></th>\n",
       "      <th colspan=\"2\" halign=\"left\">rating</th>\n",
       "    </tr>\n",
       "    <tr>\n",
       "      <th></th>\n",
       "      <th></th>\n",
       "      <th>size</th>\n",
       "      <th>mean</th>\n",
       "    </tr>\n",
       "    <tr>\n",
       "      <th>movie_id</th>\n",
       "      <th>title</th>\n",
       "      <th></th>\n",
       "      <th></th>\n",
       "    </tr>\n",
       "  </thead>\n",
       "  <tbody>\n",
       "    <tr>\n",
       "      <th>318</th>\n",
       "      <th>Shawshank Redemption, The (1994)</th>\n",
       "      <td>423</td>\n",
       "      <td>4.492908</td>\n",
       "    </tr>\n",
       "    <tr>\n",
       "      <th>50</th>\n",
       "      <th>Usual Suspects, The (1995)</th>\n",
       "      <td>332</td>\n",
       "      <td>4.459337</td>\n",
       "    </tr>\n",
       "    <tr>\n",
       "      <th>912</th>\n",
       "      <th>Casablanca (1942)</th>\n",
       "      <td>163</td>\n",
       "      <td>4.444785</td>\n",
       "    </tr>\n",
       "    <tr>\n",
       "      <th>904</th>\n",
       "      <th>Rear Window (1954)</th>\n",
       "      <td>129</td>\n",
       "      <td>4.441860</td>\n",
       "    </tr>\n",
       "    <tr>\n",
       "      <th>2019</th>\n",
       "      <th>Seven Samurai (Shichinin no samurai) (1954)</th>\n",
       "      <td>104</td>\n",
       "      <td>4.408654</td>\n",
       "    </tr>\n",
       "  </tbody>\n",
       "</table>\n",
       "</div>"
      ],
      "text/plain": [
       "                                                     rating          \n",
       "                                                       size      mean\n",
       "movie_id title                                                       \n",
       "318      Shawshank Redemption, The (1994)               423  4.492908\n",
       "50       Usual Suspects, The (1995)                     332  4.459337\n",
       "912      Casablanca (1942)                              163  4.444785\n",
       "904      Rear Window (1954)                             129  4.441860\n",
       "2019     Seven Samurai (Shichinin no samurai) (1954)    104  4.408654"
      ]
     },
     "execution_count": 5,
     "metadata": {},
     "output_type": "execute_result"
    }
   ],
   "source": [
    "# 임곗값을 도입\n",
    "movie_stats = movielens.train.groupby(['movie_id', 'title']).agg({'rating': [np.size, np.mean]})\n",
    "atleast_flg = movie_stats['rating']['size'] >= 100\n",
    "movies_sorted_by_rating = movie_stats[atleast_flg].sort_values(by=('rating', 'mean'), ascending=False)\n",
    "movies_sorted_by_rating.head()"
   ]
  },
  {
   "cell_type": "markdown",
   "id": "bc0221c2-9539-4520-a659-080426a8d9d3",
   "metadata": {},
   "source": [
    "- 평가 수가 100건 이상인 영화로 필터링하면 '쇼생크 탈출', '카사블랑카' 등의 영화가 상위로 올라 납득할 수 있는 결과가 나옴\n",
    "- 임곗값을 정하면 추천 결과가 달라짐. 실무에서는 임곗값을 1, 10, 100 등으로 패턴을 시험하여 정성적으로 가장 설득력 있는 값을 채택\n",
    "  - 집계 기간과 다양성을 함꼐 고려해야 함 (상위에 오는 아이템 변동이 없어짐)\n",
    "  - 임곗값이 너무 높아도 같은 상위에 오는 아이템 변동이 없어짐\n",
    "- 평갓값이 높은 순의 추천 시스템 성능이 어느 정도인지 측정해보자\n",
    "  - (src.popularity.py 참고)\n",
    "- 평가 수의 임곗값을 100으로 시험해보면 RMSE=1.082, Precision@K=0.008, Recall@K=0.027로 무작위 추천일 때의 성능에 비해 그 수치가 높아짐\n",
    "- 평가 수의 임곗값을 1로 하면 RMSE=1.082, Precision@K=0.000, Recall@K=0.000\n",
    "- 평가 수의 임곗값을 200으로 하면 RMSE=1.082, Precision@K=0.013, Recall@K=0.042\n",
    "- 추천 시스템의 성능을 정량적으로 측정함으로써 적절한 임곗값을 설정할 수 있음\n",
    "  - (RMSE가 변하지 않는 것은 임곗값에 따라 아이템의 평갓값 자체는 해당 아이템 평균 평갓값으로서 계산값이 변하지 않기 때문)"
   ]
  },
  {
   "cell_type": "code",
   "execution_count": 6,
   "id": "5e13cf9c-b7fa-4c07-b284-3c0e31cb2ad6",
   "metadata": {},
   "outputs": [
    {
     "name": "stderr",
     "output_type": "stream",
     "text": [
      "/Users/jeremyshin/dev/recommender/01.추천시스템_입문/src/popularity.py:15: FutureWarning: The provided callable <function mean at 0x10d0e1760> is currently using SeriesGroupBy.mean. In a future version of pandas, the provided callable will be used directly. To keep current behavior pass the string \"mean\" instead.\n",
      "  movie_rating_average = dataset.train.groupby(\"movie_id\").agg({\"rating\": np.mean})\n",
      "/Users/jeremyshin/dev/recommender/01.추천시스템_입문/src/popularity.py:25: FutureWarning: The provided callable <function mean at 0x10d0e1760> is currently using SeriesGroupBy.mean. In a future version of pandas, the provided callable will be used directly. To keep current behavior pass the string \"mean\" instead.\n",
      "  movie_stats = dataset.train.groupby(\"movie_id\").agg({\"rating\": [np.size, np.mean]})\n"
     ]
    }
   ],
   "source": [
    "# 인기도 추천\n",
    "from src.popularity import PopularityRecommender\n",
    "recommender = PopularityRecommender()\n",
    "recommend_result = recommender.recommend(movielens, minimum_num_rating=100)"
   ]
  },
  {
   "cell_type": "code",
   "execution_count": 7,
   "id": "216b63fe-0ade-40e3-a608-8f386877fdf3",
   "metadata": {},
   "outputs": [
    {
     "name": "stdout",
     "output_type": "stream",
     "text": [
      "rmse=1.089, Precision@K=0.008, Recall@K=0.025\n"
     ]
    }
   ],
   "source": [
    "# 평가\n",
    "metric_calculator = MetricCalculator()\n",
    "metrics = metric_calculator.calc(\n",
    "    movielens.test.rating.tolist(), recommend_result.rating.tolist(),\n",
    "    movielens.test_user2items, recommend_result.user2items, k=10)\n",
    "print(metrics)"
   ]
  },
  {
   "cell_type": "code",
   "execution_count": 8,
   "id": "68fb80f1-3654-4e26-ad59-179ff77825a9",
   "metadata": {},
   "outputs": [
    {
     "name": "stderr",
     "output_type": "stream",
     "text": [
      "/Users/jeremyshin/dev/recommender/01.추천시스템_입문/src/popularity.py:15: FutureWarning: The provided callable <function mean at 0x10d0e1760> is currently using SeriesGroupBy.mean. In a future version of pandas, the provided callable will be used directly. To keep current behavior pass the string \"mean\" instead.\n",
      "  movie_rating_average = dataset.train.groupby(\"movie_id\").agg({\"rating\": np.mean})\n",
      "/Users/jeremyshin/dev/recommender/01.추천시스템_입문/src/popularity.py:25: FutureWarning: The provided callable <function mean at 0x10d0e1760> is currently using SeriesGroupBy.mean. In a future version of pandas, the provided callable will be used directly. To keep current behavior pass the string \"mean\" instead.\n",
      "  movie_stats = dataset.train.groupby(\"movie_id\").agg({\"rating\": [np.size, np.mean]})\n",
      "/Users/jeremyshin/dev/recommender/01.추천시스템_입문/src/popularity.py:15: FutureWarning: The provided callable <function mean at 0x10d0e1760> is currently using SeriesGroupBy.mean. In a future version of pandas, the provided callable will be used directly. To keep current behavior pass the string \"mean\" instead.\n",
      "  movie_rating_average = dataset.train.groupby(\"movie_id\").agg({\"rating\": np.mean})\n"
     ]
    },
    {
     "name": "stdout",
     "output_type": "stream",
     "text": [
      "rmse=1.089, Precision@K=0.000, Recall@K=0.000\n",
      "rmse=1.089, Precision@K=0.013, Recall@K=0.040\n"
     ]
    },
    {
     "name": "stderr",
     "output_type": "stream",
     "text": [
      "/Users/jeremyshin/dev/recommender/01.추천시스템_입문/src/popularity.py:25: FutureWarning: The provided callable <function mean at 0x10d0e1760> is currently using SeriesGroupBy.mean. In a future version of pandas, the provided callable will be used directly. To keep current behavior pass the string \"mean\" instead.\n",
      "  movie_stats = dataset.train.groupby(\"movie_id\").agg({\"rating\": [np.size, np.mean]})\n"
     ]
    }
   ],
   "source": [
    "# 임곗값을 변경했을 때의 동작\n",
    "for minimum_num_rating in [1, 200]:\n",
    "    recommend_result = recommender.recommend(movielens, minimum_num_rating=minimum_num_rating)\n",
    "    metrics = metric_calculator.calc(\n",
    "        movielens.test.rating.tolist(), recommend_result.rating.tolist(),\n",
    "        movielens.test_user2items, recommend_result.user2items, k=10)\n",
    "    print(metrics)"
   ]
  },
  {
   "cell_type": "markdown",
   "id": "d3c9f147-f7b0-4777-8814-dcaddbd5e28b",
   "metadata": {},
   "source": [
    "## 5.5 연관 규칙\n",
    "- 연관 규칙(association rule) : 대량의 구매 이력 데이터로부터 아이템 A와 아이템 B는 동시에 구밉하는 경우가 많다는 규칙\n",
    "  - 귀저귀와 맥주 사례가 가장 유명함\n",
    "  - 계산 방법이 간단하고 SQL로도 간단히 구현 가능하여 널리 이용\n",
    "- 연관 규칙 중요 개념 3가지\n",
    "  - 지지도(support)\n",
    "  - 확신도(conficence)\n",
    "  - 리프트값(lift)\n",
    "- 아래의 표로 설명\n",
    "\n",
    "  ![구매 이력 데이터](./images/tbl_5-3.png)\n",
    "\n",
    "  - 사용자 4, 아이템 3개의 구매 이력\n",
    "  - 활용 예시1) 웹페이지 열람 데이터에 연관 규칙 적용 시 열람 수에 임곗갓을 설정해 특정 횟수 이상에만 적용\n",
    "  - 활용 예시2) 사용자 단위 집계가 아닌 세션 단위 집계 수행\n",
    "\n",
    "### 5.5.1 지지도\n",
    "- 어떤 아이템이 전체 중에서 출현한 비율\n",
    "- 위의 표를 기준으로 계산하면 다음과 같음\n",
    "  - 지지도(A) = (A의 출현 수) / 전체 데이터 수=3/4=0.75\n",
    "  - 지지도(B) = (B의 출현 수) / 전체 데이터 수=3/4=0.75\n",
    "  - 지지도(C) = (C의 출현 수) / 전체 데이터 수=2/4=0.5\n",
    "- 아이템 A와 아이템 B가 동시에 출현하는 경우는 아래와 같이 계산 가능\n",
    "  - 지지도(A and B) = (A와 B의 동시 출현 수) / 전체 데이터 수=2/4=0.75\n",
    "\n",
    "### 5.5.2 확신도\n",
    "- 아이템 A가 나타났을 때 아이템 B가 나타날 비율\n",
    "  - 확신도(A => B) = (A와 B의 동시 출현 수)/(A의 출현 수)=3/3=1.0\n",
    "  - 이 때 A를 조건부(antecedents), B를 귀결부(consequents)\n",
    "\n",
    "### 5.5.3 리프트값\n",
    "- 리프트값 : 아이템 A와 아이템 B의 출현이 어느 정도 상관관계를 갖는지 나타내는 것으로 다음과 같이 정의\n",
    "  - 리프트(A => B) = 지지도(A and B)/(지지도(A)*지지도(B))=0.75/(0.75*0.75)=1.333\n",
    "  - 아이템 A와 아이템 B가 나타나는 방법이 서로 전혀 관계가 없고 독립적이면 리프트값은 1이 됨\n",
    "  - 각 아이템 간 음의 상관관계가 있다면 1보다 작아지고 양의 상관관계가 있다면 1보다 커짐\n",
    "  - 같은 아이템 (프린터 A와 프린터 B)의 경우 동시 판매가 적으므로 1보다 작아질 것\n",
    "- 이 리프트 값은 리프트 값에 로그를 취하면 **점별 상호정보량(Pointwise Mutual Information, PMI)** 이 됨\n",
    "  - word2vec 알고리즘에서 PMI를 요소로 하는 행렬을 행렬 분해한 것으로 알려져 있음\n",
    "- 3개 이상의 리프트값도 계산 가능\n",
    "  - 리프트((A and B) => C) = 지지도(A and B and C) / (지지도(A and B)*지지도(C))\n",
    "\n",
    "### 5.5.4 Apriori 알고리즘을 활용한 고속화\n",
    "- 아이템 수나 사용자 수가 늘어나면 리프트 값으로 계산할 수 없는 순간이 옴\n",
    "- 이를 보완한 알고리즘이 Apriori 알고리즘임\n",
    "- Apriori 알고리즘에서는 지지도가 일정 이상인 아이템이나 아이템 조합만 계산 대상으로 하여 빠르게 계산\n",
    "  - 추천 시스템에서는 해당 임곗값이 중요한 파라미터임\n",
    "  - 임곗값을 너무 높이면 일부 인기 아이템만 추천, 너무 낮추면 계산이 무거워지고 노이즈가 많아짐\n",
    "- MoviLens 데이터로 연관 분석을 진행해보자\n",
    "  - 여기서는 mlxtend라는 파이썬 라이브러리 사용\n",
    "- mlxtend 라이브러리에 입력가능하도록 데이터를 행렬 형식으로 변환"
   ]
  },
  {
   "cell_type": "code",
   "execution_count": 2,
   "id": "cc52f62b-d918-45bf-b0a8-65969e993214",
   "metadata": {},
   "outputs": [],
   "source": [
    "# 부모 폴더의 경로를 추가\n",
    "import sys; sys.path.insert(0, '..')\n",
    "\n",
    "from util.data_loader import DataLoader\n",
    "from util.metric_calculator import MetricCalculator"
   ]
  },
  {
   "cell_type": "code",
   "execution_count": 3,
   "id": "0cfbfd9a-2eff-4c03-91fe-bf880cb0870c",
   "metadata": {},
   "outputs": [],
   "source": [
    "# Movielens 데이터 로딩\n",
    "data_loader = DataLoader(num_users=1000, num_test_items=5, data_path='./data/ml-10M100K/')\n",
    "movielens = data_loader.load()"
   ]
  },
  {
   "cell_type": "code",
   "execution_count": 10,
   "id": "e93f9e79-bb7f-45ee-bdd0-6f7f9f67f24a",
   "metadata": {},
   "outputs": [
    {
     "data": {
      "text/html": [
       "<div>\n",
       "<style scoped>\n",
       "    .dataframe tbody tr th:only-of-type {\n",
       "        vertical-align: middle;\n",
       "    }\n",
       "\n",
       "    .dataframe tbody tr th {\n",
       "        vertical-align: top;\n",
       "    }\n",
       "\n",
       "    .dataframe thead th {\n",
       "        text-align: right;\n",
       "    }\n",
       "</style>\n",
       "<table border=\"1\" class=\"dataframe\">\n",
       "  <thead>\n",
       "    <tr style=\"text-align: right;\">\n",
       "      <th>movie_id</th>\n",
       "      <th>1</th>\n",
       "      <th>2</th>\n",
       "      <th>3</th>\n",
       "      <th>4</th>\n",
       "      <th>5</th>\n",
       "      <th>6</th>\n",
       "      <th>7</th>\n",
       "      <th>8</th>\n",
       "      <th>9</th>\n",
       "      <th>10</th>\n",
       "      <th>...</th>\n",
       "      <th>62000</th>\n",
       "      <th>62113</th>\n",
       "      <th>62293</th>\n",
       "      <th>62344</th>\n",
       "      <th>62394</th>\n",
       "      <th>62801</th>\n",
       "      <th>62803</th>\n",
       "      <th>63113</th>\n",
       "      <th>63992</th>\n",
       "      <th>64716</th>\n",
       "    </tr>\n",
       "    <tr>\n",
       "      <th>user_id</th>\n",
       "      <th></th>\n",
       "      <th></th>\n",
       "      <th></th>\n",
       "      <th></th>\n",
       "      <th></th>\n",
       "      <th></th>\n",
       "      <th></th>\n",
       "      <th></th>\n",
       "      <th></th>\n",
       "      <th></th>\n",
       "      <th></th>\n",
       "      <th></th>\n",
       "      <th></th>\n",
       "      <th></th>\n",
       "      <th></th>\n",
       "      <th></th>\n",
       "      <th></th>\n",
       "      <th></th>\n",
       "      <th></th>\n",
       "      <th></th>\n",
       "      <th></th>\n",
       "    </tr>\n",
       "  </thead>\n",
       "  <tbody>\n",
       "    <tr>\n",
       "      <th>1</th>\n",
       "      <td>0.0</td>\n",
       "      <td>0.0</td>\n",
       "      <td>0.0</td>\n",
       "      <td>0.0</td>\n",
       "      <td>0.0</td>\n",
       "      <td>0.0</td>\n",
       "      <td>0.0</td>\n",
       "      <td>0.0</td>\n",
       "      <td>0.0</td>\n",
       "      <td>0.0</td>\n",
       "      <td>...</td>\n",
       "      <td>0.0</td>\n",
       "      <td>0.0</td>\n",
       "      <td>0.0</td>\n",
       "      <td>0.0</td>\n",
       "      <td>0.0</td>\n",
       "      <td>0.0</td>\n",
       "      <td>0.0</td>\n",
       "      <td>0.0</td>\n",
       "      <td>0.0</td>\n",
       "      <td>0.0</td>\n",
       "    </tr>\n",
       "    <tr>\n",
       "      <th>2</th>\n",
       "      <td>0.0</td>\n",
       "      <td>0.0</td>\n",
       "      <td>0.0</td>\n",
       "      <td>0.0</td>\n",
       "      <td>0.0</td>\n",
       "      <td>0.0</td>\n",
       "      <td>0.0</td>\n",
       "      <td>0.0</td>\n",
       "      <td>0.0</td>\n",
       "      <td>0.0</td>\n",
       "      <td>...</td>\n",
       "      <td>0.0</td>\n",
       "      <td>0.0</td>\n",
       "      <td>0.0</td>\n",
       "      <td>0.0</td>\n",
       "      <td>0.0</td>\n",
       "      <td>0.0</td>\n",
       "      <td>0.0</td>\n",
       "      <td>0.0</td>\n",
       "      <td>0.0</td>\n",
       "      <td>0.0</td>\n",
       "    </tr>\n",
       "    <tr>\n",
       "      <th>3</th>\n",
       "      <td>0.0</td>\n",
       "      <td>0.0</td>\n",
       "      <td>0.0</td>\n",
       "      <td>0.0</td>\n",
       "      <td>0.0</td>\n",
       "      <td>0.0</td>\n",
       "      <td>0.0</td>\n",
       "      <td>0.0</td>\n",
       "      <td>0.0</td>\n",
       "      <td>0.0</td>\n",
       "      <td>...</td>\n",
       "      <td>0.0</td>\n",
       "      <td>0.0</td>\n",
       "      <td>0.0</td>\n",
       "      <td>0.0</td>\n",
       "      <td>0.0</td>\n",
       "      <td>0.0</td>\n",
       "      <td>0.0</td>\n",
       "      <td>0.0</td>\n",
       "      <td>0.0</td>\n",
       "      <td>0.0</td>\n",
       "    </tr>\n",
       "    <tr>\n",
       "      <th>4</th>\n",
       "      <td>0.0</td>\n",
       "      <td>0.0</td>\n",
       "      <td>0.0</td>\n",
       "      <td>0.0</td>\n",
       "      <td>0.0</td>\n",
       "      <td>0.0</td>\n",
       "      <td>0.0</td>\n",
       "      <td>0.0</td>\n",
       "      <td>0.0</td>\n",
       "      <td>0.0</td>\n",
       "      <td>...</td>\n",
       "      <td>0.0</td>\n",
       "      <td>0.0</td>\n",
       "      <td>0.0</td>\n",
       "      <td>0.0</td>\n",
       "      <td>0.0</td>\n",
       "      <td>0.0</td>\n",
       "      <td>0.0</td>\n",
       "      <td>0.0</td>\n",
       "      <td>0.0</td>\n",
       "      <td>0.0</td>\n",
       "    </tr>\n",
       "    <tr>\n",
       "      <th>5</th>\n",
       "      <td>0.0</td>\n",
       "      <td>0.0</td>\n",
       "      <td>0.0</td>\n",
       "      <td>0.0</td>\n",
       "      <td>0.0</td>\n",
       "      <td>0.0</td>\n",
       "      <td>0.0</td>\n",
       "      <td>0.0</td>\n",
       "      <td>0.0</td>\n",
       "      <td>0.0</td>\n",
       "      <td>...</td>\n",
       "      <td>0.0</td>\n",
       "      <td>0.0</td>\n",
       "      <td>0.0</td>\n",
       "      <td>0.0</td>\n",
       "      <td>0.0</td>\n",
       "      <td>0.0</td>\n",
       "      <td>0.0</td>\n",
       "      <td>0.0</td>\n",
       "      <td>0.0</td>\n",
       "      <td>0.0</td>\n",
       "    </tr>\n",
       "  </tbody>\n",
       "</table>\n",
       "<p>5 rows × 6669 columns</p>\n",
       "</div>"
      ],
      "text/plain": [
       "movie_id  1      2      3      4      5      6      7      8      9      \\\n",
       "user_id                                                                   \n",
       "1           0.0    0.0    0.0    0.0    0.0    0.0    0.0    0.0    0.0   \n",
       "2           0.0    0.0    0.0    0.0    0.0    0.0    0.0    0.0    0.0   \n",
       "3           0.0    0.0    0.0    0.0    0.0    0.0    0.0    0.0    0.0   \n",
       "4           0.0    0.0    0.0    0.0    0.0    0.0    0.0    0.0    0.0   \n",
       "5           0.0    0.0    0.0    0.0    0.0    0.0    0.0    0.0    0.0   \n",
       "\n",
       "movie_id  10     ...  62000  62113  62293  62344  62394  62801  62803  63113  \\\n",
       "user_id          ...                                                           \n",
       "1           0.0  ...    0.0    0.0    0.0    0.0    0.0    0.0    0.0    0.0   \n",
       "2           0.0  ...    0.0    0.0    0.0    0.0    0.0    0.0    0.0    0.0   \n",
       "3           0.0  ...    0.0    0.0    0.0    0.0    0.0    0.0    0.0    0.0   \n",
       "4           0.0  ...    0.0    0.0    0.0    0.0    0.0    0.0    0.0    0.0   \n",
       "5           0.0  ...    0.0    0.0    0.0    0.0    0.0    0.0    0.0    0.0   \n",
       "\n",
       "movie_id  63992  64716  \n",
       "user_id                 \n",
       "1           0.0    0.0  \n",
       "2           0.0    0.0  \n",
       "3           0.0    0.0  \n",
       "4           0.0    0.0  \n",
       "5           0.0    0.0  \n",
       "\n",
       "[5 rows x 6669 columns]"
      ]
     },
     "execution_count": 10,
     "metadata": {},
     "output_type": "execute_result"
    }
   ],
   "source": [
    "# 사용자 x 영화 행렬 형식으로 변환한다\n",
    "user_movie_matrix = movielens.train.pivot(index='user_id', columns='movie_id', values='rating')\n",
    "\n",
    "# 라이브러리를 사용하기 위해 4 이상의 평갓값은 1, 4 미만의 평갓값과 결손값은 0으로 한다\n",
    "user_movie_matrix[user_movie_matrix < 4] = 0\n",
    "user_movie_matrix[user_movie_matrix.isnull()] = 0\n",
    "user_movie_matrix[user_movie_matrix >= 4] = 1\n",
    "\n",
    "user_movie_matrix.head()"
   ]
  },
  {
   "cell_type": "markdown",
   "id": "0665865b-87d3-40f3-b68f-e21429b77bae",
   "metadata": {},
   "source": [
    "- 평갓값이 4 이상인 위치가 1, 그 이외가 0이되는 사용자x영화의 행렬이 됨\n",
    "- 이 데이터를 mlxtend에 입력해서 지지도를 계산"
   ]
  },
  {
   "cell_type": "code",
   "execution_count": 12,
   "id": "c68615d9-a3e2-4bce-98ac-c7ac1b30b731",
   "metadata": {},
   "outputs": [
    {
     "name": "stdout",
     "output_type": "stream",
     "text": [
      "Collecting mlxtend\n",
      "  Downloading mlxtend-0.23.1-py3-none-any.whl.metadata (7.3 kB)\n",
      "Requirement already satisfied: scipy>=1.2.1 in /Users/jeremyshin/.pyenv/versions/3.11.3/envs/recommender/lib/python3.11/site-packages (from mlxtend) (1.12.0)\n",
      "Requirement already satisfied: numpy>=1.16.2 in /Users/jeremyshin/.pyenv/versions/3.11.3/envs/recommender/lib/python3.11/site-packages (from mlxtend) (1.26.4)\n",
      "Requirement already satisfied: pandas>=0.24.2 in /Users/jeremyshin/.pyenv/versions/3.11.3/envs/recommender/lib/python3.11/site-packages (from mlxtend) (2.2.0)\n",
      "Requirement already satisfied: scikit-learn>=1.0.2 in /Users/jeremyshin/.pyenv/versions/3.11.3/envs/recommender/lib/python3.11/site-packages (from mlxtend) (1.4.1.post1)\n",
      "Requirement already satisfied: matplotlib>=3.0.0 in /Users/jeremyshin/.pyenv/versions/3.11.3/envs/recommender/lib/python3.11/site-packages (from mlxtend) (3.8.3)\n",
      "Requirement already satisfied: joblib>=0.13.2 in /Users/jeremyshin/.pyenv/versions/3.11.3/envs/recommender/lib/python3.11/site-packages (from mlxtend) (1.3.2)\n",
      "Requirement already satisfied: contourpy>=1.0.1 in /Users/jeremyshin/.pyenv/versions/3.11.3/envs/recommender/lib/python3.11/site-packages (from matplotlib>=3.0.0->mlxtend) (1.2.0)\n",
      "Requirement already satisfied: cycler>=0.10 in /Users/jeremyshin/.pyenv/versions/3.11.3/envs/recommender/lib/python3.11/site-packages (from matplotlib>=3.0.0->mlxtend) (0.12.1)\n",
      "Requirement already satisfied: fonttools>=4.22.0 in /Users/jeremyshin/.pyenv/versions/3.11.3/envs/recommender/lib/python3.11/site-packages (from matplotlib>=3.0.0->mlxtend) (4.49.0)\n",
      "Requirement already satisfied: kiwisolver>=1.3.1 in /Users/jeremyshin/.pyenv/versions/3.11.3/envs/recommender/lib/python3.11/site-packages (from matplotlib>=3.0.0->mlxtend) (1.4.5)\n",
      "Requirement already satisfied: packaging>=20.0 in /Users/jeremyshin/.pyenv/versions/3.11.3/envs/recommender/lib/python3.11/site-packages (from matplotlib>=3.0.0->mlxtend) (23.2)\n",
      "Requirement already satisfied: pillow>=8 in /Users/jeremyshin/.pyenv/versions/3.11.3/envs/recommender/lib/python3.11/site-packages (from matplotlib>=3.0.0->mlxtend) (10.2.0)\n",
      "Requirement already satisfied: pyparsing>=2.3.1 in /Users/jeremyshin/.pyenv/versions/3.11.3/envs/recommender/lib/python3.11/site-packages (from matplotlib>=3.0.0->mlxtend) (3.1.1)\n",
      "Requirement already satisfied: python-dateutil>=2.7 in /Users/jeremyshin/.pyenv/versions/3.11.3/envs/recommender/lib/python3.11/site-packages (from matplotlib>=3.0.0->mlxtend) (2.8.2)\n",
      "Requirement already satisfied: pytz>=2020.1 in /Users/jeremyshin/.pyenv/versions/3.11.3/envs/recommender/lib/python3.11/site-packages (from pandas>=0.24.2->mlxtend) (2024.1)\n",
      "Requirement already satisfied: tzdata>=2022.7 in /Users/jeremyshin/.pyenv/versions/3.11.3/envs/recommender/lib/python3.11/site-packages (from pandas>=0.24.2->mlxtend) (2024.1)\n",
      "Requirement already satisfied: threadpoolctl>=2.0.0 in /Users/jeremyshin/.pyenv/versions/3.11.3/envs/recommender/lib/python3.11/site-packages (from scikit-learn>=1.0.2->mlxtend) (3.3.0)\n",
      "Requirement already satisfied: six>=1.5 in /Users/jeremyshin/.pyenv/versions/3.11.3/envs/recommender/lib/python3.11/site-packages (from python-dateutil>=2.7->matplotlib>=3.0.0->mlxtend) (1.16.0)\n",
      "Downloading mlxtend-0.23.1-py3-none-any.whl (1.4 MB)\n",
      "\u001b[2K   \u001b[38;2;114;156;31m━━━━━━━━━━━━━━━━━━━━━━━━━━━━━━━━━━━━━━━━\u001b[0m \u001b[32m1.4/1.4 MB\u001b[0m \u001b[31m19.2 MB/s\u001b[0m eta \u001b[36m0:00:00\u001b[0mm eta \u001b[36m0:00:01\u001b[0m[36m0:00:01\u001b[0m\n",
      "\u001b[?25hInstalling collected packages: mlxtend\n",
      "Successfully installed mlxtend-0.23.1\n"
     ]
    }
   ],
   "source": [
    "!pip install mlxtend"
   ]
  },
  {
   "cell_type": "code",
   "execution_count": 13,
   "id": "d2245d53-0d9e-4516-bb02-d81574d3d2c7",
   "metadata": {},
   "outputs": [
    {
     "name": "stderr",
     "output_type": "stream",
     "text": [
      "/Users/jeremyshin/.pyenv/versions/3.11.3/envs/recommender/lib/python3.11/site-packages/mlxtend/frequent_patterns/fpcommon.py:109: DeprecationWarning: DataFrames with non-bool types result in worse computationalperformance and their support might be discontinued in the future.Please use a DataFrame with bool type\n",
      "  warnings.warn(\n"
     ]
    },
    {
     "data": {
      "text/html": [
       "<div>\n",
       "<style scoped>\n",
       "    .dataframe tbody tr th:only-of-type {\n",
       "        vertical-align: middle;\n",
       "    }\n",
       "\n",
       "    .dataframe tbody tr th {\n",
       "        vertical-align: top;\n",
       "    }\n",
       "\n",
       "    .dataframe thead th {\n",
       "        text-align: right;\n",
       "    }\n",
       "</style>\n",
       "<table border=\"1\" class=\"dataframe\">\n",
       "  <thead>\n",
       "    <tr style=\"text-align: right;\">\n",
       "      <th></th>\n",
       "      <th>support</th>\n",
       "      <th>itemsets</th>\n",
       "    </tr>\n",
       "  </thead>\n",
       "  <tbody>\n",
       "    <tr>\n",
       "      <th>42</th>\n",
       "      <td>0.415</td>\n",
       "      <td>(593)</td>\n",
       "    </tr>\n",
       "    <tr>\n",
       "      <th>23</th>\n",
       "      <td>0.378</td>\n",
       "      <td>(318)</td>\n",
       "    </tr>\n",
       "    <tr>\n",
       "      <th>21</th>\n",
       "      <td>0.368</td>\n",
       "      <td>(296)</td>\n",
       "    </tr>\n",
       "    <tr>\n",
       "      <th>19</th>\n",
       "      <td>0.362</td>\n",
       "      <td>(260)</td>\n",
       "    </tr>\n",
       "    <tr>\n",
       "      <th>25</th>\n",
       "      <td>0.320</td>\n",
       "      <td>(356)</td>\n",
       "    </tr>\n",
       "  </tbody>\n",
       "</table>\n",
       "</div>"
      ],
      "text/plain": [
       "    support itemsets\n",
       "42    0.415    (593)\n",
       "23    0.378    (318)\n",
       "21    0.368    (296)\n",
       "19    0.362    (260)\n",
       "25    0.320    (356)"
      ]
     },
     "execution_count": 13,
     "metadata": {},
     "output_type": "execute_result"
    }
   ],
   "source": [
    "from mlxtend.frequent_patterns import apriori\n",
    "\n",
    "# 지지도가 높은 영화를 표시\n",
    "freq_movies = apriori(\n",
    "    user_movie_matrix, min_support=0.1, use_colnames=True)\n",
    "freq_movies.sort_values('support', ascending=False).head()"
   ]
  },
  {
   "cell_type": "code",
   "execution_count": 14,
   "id": "500fbf91-16e0-4a68-acb1-8ee91aa4053c",
   "metadata": {},
   "outputs": [
    {
     "data": {
      "text/html": [
       "<div>\n",
       "<style scoped>\n",
       "    .dataframe tbody tr th:only-of-type {\n",
       "        vertical-align: middle;\n",
       "    }\n",
       "\n",
       "    .dataframe tbody tr th {\n",
       "        vertical-align: top;\n",
       "    }\n",
       "\n",
       "    .dataframe thead th {\n",
       "        text-align: right;\n",
       "    }\n",
       "</style>\n",
       "<table border=\"1\" class=\"dataframe\">\n",
       "  <thead>\n",
       "    <tr style=\"text-align: right;\">\n",
       "      <th></th>\n",
       "      <th>movie_id</th>\n",
       "      <th>title</th>\n",
       "      <th>genre</th>\n",
       "      <th>tag</th>\n",
       "    </tr>\n",
       "  </thead>\n",
       "  <tbody>\n",
       "    <tr>\n",
       "      <th>587</th>\n",
       "      <td>593</td>\n",
       "      <td>Silence of the Lambs, The (1991)</td>\n",
       "      <td>[Crime, Horror, Thriller]</td>\n",
       "      <td>[based on a book, anthony hopkins, demme, psyc...</td>\n",
       "    </tr>\n",
       "  </tbody>\n",
       "</table>\n",
       "</div>"
      ],
      "text/plain": [
       "     movie_id                             title                      genre  \\\n",
       "587       593  Silence of the Lambs, The (1991)  [Crime, Horror, Thriller]   \n",
       "\n",
       "                                                   tag  \n",
       "587  [based on a book, anthony hopkins, demme, psyc...  "
      ]
     },
     "execution_count": 14,
     "metadata": {},
     "output_type": "execute_result"
    }
   ],
   "source": [
    "# movie_id=593의 제목 확인(양들의 침묵)\n",
    "movielens.item_content[movielens.item_content.movie_id == 593]"
   ]
  },
  {
   "cell_type": "markdown",
   "id": "254e05ac-e249-49c3-9d1a-89836b716184",
   "metadata": {},
   "source": [
    "- movie_id=593인 영화는 '양들의 침묵', 사용자의 약 40%가 4 이상의 평가\n",
    "- 다음으로 이 지지도를 기반으로 리프트값을 계산"
   ]
  },
  {
   "cell_type": "code",
   "execution_count": 15,
   "id": "33bad097-3a0a-406e-bb06-dcc49dc459d8",
   "metadata": {},
   "outputs": [
    {
     "data": {
      "text/html": [
       "<div>\n",
       "<style scoped>\n",
       "    .dataframe tbody tr th:only-of-type {\n",
       "        vertical-align: middle;\n",
       "    }\n",
       "\n",
       "    .dataframe tbody tr th {\n",
       "        vertical-align: top;\n",
       "    }\n",
       "\n",
       "    .dataframe thead th {\n",
       "        text-align: right;\n",
       "    }\n",
       "</style>\n",
       "<table border=\"1\" class=\"dataframe\">\n",
       "  <thead>\n",
       "    <tr style=\"text-align: right;\">\n",
       "      <th></th>\n",
       "      <th>antecedents</th>\n",
       "      <th>consequents</th>\n",
       "      <th>lift</th>\n",
       "    </tr>\n",
       "  </thead>\n",
       "  <tbody>\n",
       "    <tr>\n",
       "      <th>658</th>\n",
       "      <td>(5952)</td>\n",
       "      <td>(4993)</td>\n",
       "      <td>5.459770</td>\n",
       "    </tr>\n",
       "    <tr>\n",
       "      <th>659</th>\n",
       "      <td>(4993)</td>\n",
       "      <td>(5952)</td>\n",
       "      <td>5.459770</td>\n",
       "    </tr>\n",
       "    <tr>\n",
       "      <th>1455</th>\n",
       "      <td>(1291, 260)</td>\n",
       "      <td>(1196, 1198)</td>\n",
       "      <td>4.669188</td>\n",
       "    </tr>\n",
       "    <tr>\n",
       "      <th>1454</th>\n",
       "      <td>(1196, 1198)</td>\n",
       "      <td>(1291, 260)</td>\n",
       "      <td>4.669188</td>\n",
       "    </tr>\n",
       "    <tr>\n",
       "      <th>1452</th>\n",
       "      <td>(1291, 1196)</td>\n",
       "      <td>(260, 1198)</td>\n",
       "      <td>4.171359</td>\n",
       "    </tr>\n",
       "  </tbody>\n",
       "</table>\n",
       "</div>"
      ],
      "text/plain": [
       "       antecedents   consequents      lift\n",
       "658         (5952)        (4993)  5.459770\n",
       "659         (4993)        (5952)  5.459770\n",
       "1455   (1291, 260)  (1196, 1198)  4.669188\n",
       "1454  (1196, 1198)   (1291, 260)  4.669188\n",
       "1452  (1291, 1196)   (260, 1198)  4.171359"
      ]
     },
     "execution_count": 15,
     "metadata": {},
     "output_type": "execute_result"
    }
   ],
   "source": [
    "from mlxtend.frequent_patterns import association_rules\n",
    "# 어소시에이션 규칙 계산(리프트 값이 높은 순으로 표시)\n",
    "rules = association_rules(freq_movies, metric='lift', min_threshold=1)\n",
    "rules.sort_values('lift', ascending=False).head()[['antecedents', 'consequents', 'lift']]"
   ]
  },
  {
   "cell_type": "markdown",
   "id": "4f27f018-fd82-4035-9155-815bab04cf27",
   "metadata": {
    "editable": true,
    "slideshow": {
     "slide_type": ""
    },
    "tags": []
   },
   "source": [
    "- antecedents가 조건부, consequents가 귀결부\n",
    "- 관계성이 높은 영화 조합을 추출 할 수 있음\n",
    "  - movie_id=5952(반지의 제왕 시리즈의 1편), movie_id=4993(반지의 제왕 시리즈 2편)\n",
    "  - 리프트값은 대칭성이 있어 반대의 경우도 같은 값을 가짐\n",
    "  - 연관 규칙에서 제시되는 것은 상관 관계가 높은 조합이며 인과 관계를 나타내는 것은 아님\n",
    "  - 반지의 제왕 시리즈 2편을 보고 있는 사람에게는 1편을 추천해도 큰 의미는 없음\n",
    "- 다음은 이 리프트 값을 사용해 사용자에게 추천해보자\n",
    "  - 연관 규칙을 사용한 추천 방법은 몇가지가 있음\n",
    "  - 여기서는 간단히 사용자가 가장 최근 별 4개 이상으로 평가한 영화 5편을 연관 입력으로 사용\n",
    "  - 5편 중 1편이라도 조건부에 포함되는 연관 규칙을 모두 열거\n",
    "  - 그 규칙을 리프트값으로 정렬하고 사용자가 과거에 평가한 영화를 제거한 뒤 상위 10편을 사용자에게 추천\n",
    "- src.association.py 파일 참고"
   ]
  },
  {
   "cell_type": "code",
   "execution_count": 16,
   "id": "07f46961-bb03-470e-8f5d-66d767e2ca8b",
   "metadata": {},
   "outputs": [
    {
     "name": "stderr",
     "output_type": "stream",
     "text": [
      "/Users/jeremyshin/.pyenv/versions/3.11.3/envs/recommender/lib/python3.11/site-packages/mlxtend/frequent_patterns/fpcommon.py:109: DeprecationWarning: DataFrames with non-bool types result in worse computationalperformance and their support might be discontinued in the future.Please use a DataFrame with bool type\n",
      "  warnings.warn(\n"
     ]
    }
   ],
   "source": [
    "# 어소시에이션 추천\n",
    "from src.association import AssociationRecommender\n",
    "recommender = AssociationRecommender()\n",
    "recommend_result = recommender.recommend(movielens)"
   ]
  },
  {
   "cell_type": "code",
   "execution_count": 17,
   "id": "71b8d686-9c59-4104-8a3e-3098af98643e",
   "metadata": {},
   "outputs": [
    {
     "name": "stdout",
     "output_type": "stream",
     "text": [
      "rmse=0.000, Precision@K=0.011, Recall@K=0.035\n"
     ]
    }
   ],
   "source": [
    "# 평가\n",
    "metric_calculator = MetricCalculator()\n",
    "metrics = metric_calculator.calc(\n",
    "    movielens.test.rating.tolist(), recommend_result.rating.tolist(),\n",
    "    movielens.test_user2items, recommend_result.user2items, k=10)\n",
    "print(metrics)"
   ]
  },
  {
   "cell_type": "code",
   "execution_count": 18,
   "id": "d9e8f983-52f9-4d3e-9cc0-76a0229ffe38",
   "metadata": {},
   "outputs": [
    {
     "name": "stderr",
     "output_type": "stream",
     "text": [
      "/Users/jeremyshin/.pyenv/versions/3.11.3/envs/recommender/lib/python3.11/site-packages/mlxtend/frequent_patterns/fpcommon.py:109: DeprecationWarning: DataFrames with non-bool types result in worse computationalperformance and their support might be discontinued in the future.Please use a DataFrame with bool type\n",
      "  warnings.warn(\n"
     ]
    },
    {
     "name": "stdout",
     "output_type": "stream",
     "text": [
      "rmse=0.000, Precision@K=0.015, Recall@K=0.049\n"
     ]
    },
    {
     "name": "stderr",
     "output_type": "stream",
     "text": [
      "/Users/jeremyshin/.pyenv/versions/3.11.3/envs/recommender/lib/python3.11/site-packages/mlxtend/frequent_patterns/fpcommon.py:109: DeprecationWarning: DataFrames with non-bool types result in worse computationalperformance and their support might be discontinued in the future.Please use a DataFrame with bool type\n",
      "  warnings.warn(\n"
     ]
    },
    {
     "name": "stdout",
     "output_type": "stream",
     "text": [
      "rmse=0.000, Precision@K=0.014, Recall@K=0.043\n"
     ]
    },
    {
     "name": "stderr",
     "output_type": "stream",
     "text": [
      "/Users/jeremyshin/.pyenv/versions/3.11.3/envs/recommender/lib/python3.11/site-packages/mlxtend/frequent_patterns/fpcommon.py:109: DeprecationWarning: DataFrames with non-bool types result in worse computationalperformance and their support might be discontinued in the future.Please use a DataFrame with bool type\n",
      "  warnings.warn(\n"
     ]
    },
    {
     "name": "stdout",
     "output_type": "stream",
     "text": [
      "rmse=0.000, Precision@K=0.014, Recall@K=0.045\n"
     ]
    },
    {
     "name": "stderr",
     "output_type": "stream",
     "text": [
      "/Users/jeremyshin/.pyenv/versions/3.11.3/envs/recommender/lib/python3.11/site-packages/mlxtend/frequent_patterns/fpcommon.py:109: DeprecationWarning: DataFrames with non-bool types result in worse computationalperformance and their support might be discontinued in the future.Please use a DataFrame with bool type\n",
      "  warnings.warn(\n"
     ]
    },
    {
     "name": "stdout",
     "output_type": "stream",
     "text": [
      "rmse=0.000, Precision@K=0.013, Recall@K=0.040\n"
     ]
    },
    {
     "name": "stderr",
     "output_type": "stream",
     "text": [
      "/Users/jeremyshin/.pyenv/versions/3.11.3/envs/recommender/lib/python3.11/site-packages/mlxtend/frequent_patterns/fpcommon.py:109: DeprecationWarning: DataFrames with non-bool types result in worse computationalperformance and their support might be discontinued in the future.Please use a DataFrame with bool type\n",
      "  warnings.warn(\n"
     ]
    },
    {
     "name": "stdout",
     "output_type": "stream",
     "text": [
      "rmse=0.000, Precision@K=0.011, Recall@K=0.035\n"
     ]
    },
    {
     "name": "stderr",
     "output_type": "stream",
     "text": [
      "/Users/jeremyshin/.pyenv/versions/3.11.3/envs/recommender/lib/python3.11/site-packages/mlxtend/frequent_patterns/fpcommon.py:109: DeprecationWarning: DataFrames with non-bool types result in worse computationalperformance and their support might be discontinued in the future.Please use a DataFrame with bool type\n",
      "  warnings.warn(\n"
     ]
    },
    {
     "name": "stdout",
     "output_type": "stream",
     "text": [
      "rmse=0.000, Precision@K=0.010, Recall@K=0.034\n"
     ]
    }
   ],
   "source": [
    "# min_support와 정밀도의 관계\n",
    "for min_support in [0.06, 0.07, 0.08, 0.09, 0.1, 0.11]:\n",
    "    recommend_result = recommender.recommend(movielens, min_support=min_support)\n",
    "    metrics = metric_calculator.calc(\n",
    "    movielens.test.rating.tolist(), recommend_result.rating.tolist(),\n",
    "    movielens.test_user2items, recommend_result.user2items, k=10)\n",
    "    print(metrics)"
   ]
  },
  {
   "cell_type": "markdown",
   "id": "c0ea5bc2-87f3-419d-8c51-99ae71f1fd6e",
   "metadata": {},
   "source": [
    "- 결과는 Precision@K=0.011, Recall@K=0.035임\n",
    "  - 무작위로 추천하는 것보다는 높지만 인기순에 비해 Recall@K 값이 다소 좋지 않음\n",
    "- 연관 규칙에는 여러 파라미터가 있으며 그 파라미터들을 조정함으로써 정확도를 높일 수 있음\n",
    "  - min_support 임곗값을 적절히 설정하면 인기도보다 높은 값이 됨\n",
    "  - min_support=0.06일떄는 rmse=0.000, Precision@K=0.015, Recall@K=0.049\n",
    "  - min_support가 작을수록 계산에 포함되는 아이템 수가 늘어나기 때문에 계산 시간 증가\n",
    "  - 실무에서 사용할 때는 계산 속도도 고려해 최적의 임곗값을 결정"
   ]
  },
  {
   "cell_type": "code",
   "execution_count": null,
   "id": "cd2fc2c3-85b3-4879-957b-778ef88884d6",
   "metadata": {},
   "outputs": [],
   "source": []
  }
 ],
 "metadata": {
  "kernelspec": {
   "display_name": "Python 3 (ipykernel)",
   "language": "python",
   "name": "python3"
  },
  "language_info": {
   "codemirror_mode": {
    "name": "ipython",
    "version": 3
   },
   "file_extension": ".py",
   "mimetype": "text/x-python",
   "name": "python",
   "nbconvert_exporter": "python",
   "pygments_lexer": "ipython3",
   "version": "3.11.3"
  }
 },
 "nbformat": 4,
 "nbformat_minor": 5
}
