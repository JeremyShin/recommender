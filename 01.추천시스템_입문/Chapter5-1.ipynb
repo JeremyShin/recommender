{
 "cells": [
  {
   "cell_type": "markdown",
   "id": "297aa556-e2e3-4bb2-a0b8-cc130207d1f6",
   "metadata": {},
   "source": [
    "# CH 5 추천 알고리즘 상세\n",
    "- 구체적인 추천 시스템 알고리즘 소개\n",
    "- MovieLens 영화 데이터셋을 샘플 데이터로 사용\n",
    "- 실무에서 직면하는 문제점이나 대처법도 같이 찾아보자\n",
    "- [파이썬 샘플 코드는 여기를 클릭!](https://github.com/moseskim/RecommenderSystems)\n",
    "\n",
    "## 5.1 알고리즘 비교\n",
    "- 10종류 이상의 알고리즘 소개. 순서대로 읽을 필요 없이 흥미가 있는 것부터 읽어봐도 좋음\n",
    "- 간단한 추천 모델은 인기도 추천이나 연관규칙, 정확도를 높이고 싶다면 LDA나 word2vec, 머신러닝 방법 등이 있음\n",
    "- 협조 필터링에서 정확도를 높이고 싶다면 행렬 분해 계열, 머신러닝 방법을 추천\n",
    "- 하이브리드로 정확도를 높이고 싶다면 회귀 모델이나 FM, 머신러닝 방법을 추천\n",
    "- 추천 알고리즘 비교\n",
    "  \n",
    "  ![추천 알고리즘 비교1](./images/tbl_5-1-1.png)\n",
    "\n",
    "  ![추천 알고리즘 비교2](./images/tbl_5-1-2.png)\n",
    "\n",
    "## 5.2 MovieLens 데이터셋\n",
    "- 미네소타 대학의 그룹렌즈 연구소가 구축한 영화 평가 데이터셋\n",
    "- MovieLens 데이터셋에는 몇 가지 종류가 있으며 여기서는 MovieLens 10M Dataset이라는 데이터셋 사용\n",
    "- 1,000만 건의 영화 평가값이 있으며 각 영화에 자유 형식의 텍ㄱ스트로 부여한 '지브리', '어린이용', '무서워' 등의 태그 정보도 포함\n",
    "\n",
    "### 5.2.1 데이터 다운로드\n",
    "- https://grouplens.org/datasets/movielens/10m/ 에서 ml-10m.zip 파일을 다운로드"
   ]
  },
  {
   "cell_type": "code",
   "execution_count": 6,
   "id": "442e4551-fb48-4a6c-b5d1-d20698208190",
   "metadata": {},
   "outputs": [
    {
     "name": "stdout",
     "output_type": "stream",
     "text": [
      "--2024-02-17 13:56:17--  https://files.grouplens.org/datasets/movielens/ml-10m.zip\n",
      "files.grouplens.org (files.grouplens.org) 해석 중... 128.101.65.152\n",
      "다음으로 연결 중: files.grouplens.org (files.grouplens.org)|128.101.65.152|:443... 연결했습니다.\n",
      "HTTP 요청을 보냈습니다. 응답 기다리는 중... 200 OK\n",
      "길이: 65566137 (63M) [application/zip]\n",
      "저장 위치: `./data/ml-10m.zip'\n",
      "\n",
      "ml-10m.zip          100%[===================>]  62.53M  6.91MB/s    /  11s     \n",
      "\n",
      "2024-02-17 13:56:29 (5.73 MB/s) - `./data/ml-10m.zip' 저장함 [65566137/65566137]\n",
      "\n",
      "Archive:  ml-10m.zip\n",
      "   creating: ./data/ml-10M100K/\n",
      "  inflating: ./data/ml-10M100K/allbut.pl  \n",
      "  inflating: ./data/ml-10M100K/movies.dat  \n",
      "  inflating: ./data/ml-10M100K/ratings.dat  \n",
      "  inflating: ./data/ml-10M100K/README.html  \n",
      "  inflating: ./data/ml-10M100K/split_ratings.sh  \n",
      "  inflating: ./data/ml-10M100K/tags.dat  \n"
     ]
    }
   ],
   "source": [
    "# MovieLens 데이터셋을 data 디렉터리에 다운로드한 뒤, 압축을 푼다\n",
    "!wget -nc --no-check-certificate https://files.grouplens.org/datasets/movielens/ml-10m.zip -P ./data\n",
    "!unzip -n ml-10m.zip -d ./data"
   ]
  },
  {
   "cell_type": "markdown",
   "id": "4f05fb2b-3f4d-47ad-919f-624b56afa719",
   "metadata": {},
   "source": [
    "- 폴더 안에 있는 데이터 중 주로 아래의 파일을 사용\n",
    "  ![MovieLens 데이터셋 내용](./images/tbl_5-2.png)\n",
    "\n",
    "### 5.2.2 MovieLens 데이터 개요\n",
    "- 이제 아래의 데이터의 특성을 확인\n",
    "  - 데이터의 특징을 탐색적으로 조사하는 것을 탐색적 데이터 분석(EDA)라고 부름"
   ]
  },
  {
   "cell_type": "code",
   "execution_count": 4,
   "id": "f97ce566-8887-4208-9360-0f1d9c22874c",
   "metadata": {},
   "outputs": [],
   "source": [
    "import pandas as pd"
   ]
  },
  {
   "cell_type": "code",
   "execution_count": 18,
   "id": "495a7677-bfca-4a46-98f9-79ff9ff8ad03",
   "metadata": {},
   "outputs": [
    {
     "data": {
      "text/html": [
       "<div>\n",
       "<style scoped>\n",
       "    .dataframe tbody tr th:only-of-type {\n",
       "        vertical-align: middle;\n",
       "    }\n",
       "\n",
       "    .dataframe tbody tr th {\n",
       "        vertical-align: top;\n",
       "    }\n",
       "\n",
       "    .dataframe thead th {\n",
       "        text-align: right;\n",
       "    }\n",
       "</style>\n",
       "<table border=\"1\" class=\"dataframe\">\n",
       "  <thead>\n",
       "    <tr style=\"text-align: right;\">\n",
       "      <th></th>\n",
       "      <th>movie_id</th>\n",
       "      <th>title</th>\n",
       "      <th>genre</th>\n",
       "    </tr>\n",
       "  </thead>\n",
       "  <tbody>\n",
       "    <tr>\n",
       "      <th>0</th>\n",
       "      <td>1</td>\n",
       "      <td>Toy Story (1995)</td>\n",
       "      <td>[Adventure, Animation, Children, Comedy, Fantasy]</td>\n",
       "    </tr>\n",
       "    <tr>\n",
       "      <th>1</th>\n",
       "      <td>2</td>\n",
       "      <td>Jumanji (1995)</td>\n",
       "      <td>[Adventure, Children, Fantasy]</td>\n",
       "    </tr>\n",
       "    <tr>\n",
       "      <th>2</th>\n",
       "      <td>3</td>\n",
       "      <td>Grumpier Old Men (1995)</td>\n",
       "      <td>[Comedy, Romance]</td>\n",
       "    </tr>\n",
       "    <tr>\n",
       "      <th>3</th>\n",
       "      <td>4</td>\n",
       "      <td>Waiting to Exhale (1995)</td>\n",
       "      <td>[Comedy, Drama, Romance]</td>\n",
       "    </tr>\n",
       "    <tr>\n",
       "      <th>4</th>\n",
       "      <td>5</td>\n",
       "      <td>Father of the Bride Part II (1995)</td>\n",
       "      <td>[Comedy]</td>\n",
       "    </tr>\n",
       "  </tbody>\n",
       "</table>\n",
       "</div>"
      ],
      "text/plain": [
       "   movie_id                               title  \\\n",
       "0         1                    Toy Story (1995)   \n",
       "1         2                      Jumanji (1995)   \n",
       "2         3             Grumpier Old Men (1995)   \n",
       "3         4            Waiting to Exhale (1995)   \n",
       "4         5  Father of the Bride Part II (1995)   \n",
       "\n",
       "                                               genre  \n",
       "0  [Adventure, Animation, Children, Comedy, Fantasy]  \n",
       "1                     [Adventure, Children, Fantasy]  \n",
       "2                                  [Comedy, Romance]  \n",
       "3                           [Comedy, Drama, Romance]  \n",
       "4                                           [Comedy]  "
      ]
     },
     "execution_count": 18,
     "metadata": {},
     "output_type": "execute_result"
    }
   ],
   "source": [
    "# 영화정보 로딩(10681작품)\n",
    "# movieID와 제목만 사용\n",
    "m_cols = ['movie_id', 'title', 'genre']\n",
    "movies = pd.read_csv('./data/ml-10M100K/movies.dat', names=m_cols, sep='::' , encoding='latin-1', engine='python')\n",
    "\n",
    "# genre를 list 형식으로 저장한다, 참고 : 장르는 20종류\n",
    "movies['genre'] = movies.genre.apply(lambda x:x.split('|'))\n",
    "movies.head()"
   ]
  },
  {
   "cell_type": "code",
   "execution_count": 19,
   "id": "5d03ada7-1e7a-49a7-bf0f-7b29fe69632b",
   "metadata": {},
   "outputs": [
    {
     "data": {
      "text/html": [
       "<div>\n",
       "<style scoped>\n",
       "    .dataframe tbody tr th:only-of-type {\n",
       "        vertical-align: middle;\n",
       "    }\n",
       "\n",
       "    .dataframe tbody tr th {\n",
       "        vertical-align: top;\n",
       "    }\n",
       "\n",
       "    .dataframe thead th {\n",
       "        text-align: right;\n",
       "    }\n",
       "</style>\n",
       "<table border=\"1\" class=\"dataframe\">\n",
       "  <thead>\n",
       "    <tr style=\"text-align: right;\">\n",
       "      <th></th>\n",
       "      <th>user_id</th>\n",
       "      <th>movie_id</th>\n",
       "      <th>tag</th>\n",
       "      <th>timestamp</th>\n",
       "    </tr>\n",
       "  </thead>\n",
       "  <tbody>\n",
       "    <tr>\n",
       "      <th>0</th>\n",
       "      <td>15</td>\n",
       "      <td>4973</td>\n",
       "      <td>excellent!</td>\n",
       "      <td>1215184630</td>\n",
       "    </tr>\n",
       "    <tr>\n",
       "      <th>1</th>\n",
       "      <td>20</td>\n",
       "      <td>1747</td>\n",
       "      <td>politics</td>\n",
       "      <td>1188263867</td>\n",
       "    </tr>\n",
       "    <tr>\n",
       "      <th>2</th>\n",
       "      <td>20</td>\n",
       "      <td>1747</td>\n",
       "      <td>satire</td>\n",
       "      <td>1188263867</td>\n",
       "    </tr>\n",
       "    <tr>\n",
       "      <th>3</th>\n",
       "      <td>20</td>\n",
       "      <td>2424</td>\n",
       "      <td>chick flick 212</td>\n",
       "      <td>1188263835</td>\n",
       "    </tr>\n",
       "    <tr>\n",
       "      <th>4</th>\n",
       "      <td>20</td>\n",
       "      <td>2424</td>\n",
       "      <td>hanks</td>\n",
       "      <td>1188263835</td>\n",
       "    </tr>\n",
       "  </tbody>\n",
       "</table>\n",
       "</div>"
      ],
      "text/plain": [
       "   user_id  movie_id              tag   timestamp\n",
       "0       15      4973       excellent!  1215184630\n",
       "1       20      1747         politics  1188263867\n",
       "2       20      1747           satire  1188263867\n",
       "3       20      2424  chick flick 212  1188263835\n",
       "4       20      2424            hanks  1188263835"
      ]
     },
     "execution_count": 19,
     "metadata": {},
     "output_type": "execute_result"
    }
   ],
   "source": [
    "# 사용자 부여한 영화의 태그 정보 로딩\n",
    "t_cols = ['user_id', 'movie_id', 'tag', 'timestamp']\n",
    "user_tagged_movies = pd.read_csv('./data/ml-10M100K/tags.dat', names=t_cols, sep='::', engine='python')\n",
    "\n",
    "# tag를 소문자로 한다\n",
    "user_tagged_movies['tag'] = user_tagged_movies['tag'].str.lower()\n",
    "\n",
    "user_tagged_movies.head()"
   ]
  },
  {
   "cell_type": "code",
   "execution_count": 16,
   "id": "a3e3d581-fea7-4b0c-933c-6f6703eb5009",
   "metadata": {},
   "outputs": [
    {
     "name": "stdout",
     "output_type": "stream",
     "text": [
      "태그 종류=15241\n",
      "태그 레코드 수=95580\n",
      "태그가 붙어있는 영화 수=7601\n"
     ]
    }
   ],
   "source": [
    "print(f'태그 종류={len(user_tagged_movies.tag.unique())}')\n",
    "print(f'태그 레코드 수={len(user_tagged_movies)}')\n",
    "print(f'태그가 붙어있는 영화 수={len(user_tagged_movies.movie_id.unique())}')"
   ]
  },
  {
   "cell_type": "markdown",
   "id": "95e6339a-f1af-4c66-9eca-5e9944d7af56",
   "metadata": {},
   "source": [
    "- 사용자가 각 영화에 태그를 부여한 것이므로 표기가 잘못되거나 올바르지 않은 것이 있음\n",
    "- 태그가 없는 영화는 전체 70% 정도이고 처리방법에 대해서는 다음 절 이후부터 확인\n",
    "- 태그도 장르와 마찬가지로 쉽게 다루기 위해 영화 ID별로 부여된 태그를 리스트 형식으로 저장"
   ]
  },
  {
   "cell_type": "code",
   "execution_count": 20,
   "id": "6a26fc2f-1a92-4782-8059-4bf01cf36447",
   "metadata": {},
   "outputs": [
    {
     "data": {
      "text/html": [
       "<div>\n",
       "<style scoped>\n",
       "    .dataframe tbody tr th:only-of-type {\n",
       "        vertical-align: middle;\n",
       "    }\n",
       "\n",
       "    .dataframe tbody tr th {\n",
       "        vertical-align: top;\n",
       "    }\n",
       "\n",
       "    .dataframe thead th {\n",
       "        text-align: right;\n",
       "    }\n",
       "</style>\n",
       "<table border=\"1\" class=\"dataframe\">\n",
       "  <thead>\n",
       "    <tr style=\"text-align: right;\">\n",
       "      <th></th>\n",
       "      <th>movie_id</th>\n",
       "      <th>title</th>\n",
       "      <th>genre</th>\n",
       "      <th>tag</th>\n",
       "    </tr>\n",
       "  </thead>\n",
       "  <tbody>\n",
       "    <tr>\n",
       "      <th>0</th>\n",
       "      <td>1</td>\n",
       "      <td>Toy Story (1995)</td>\n",
       "      <td>[Adventure, Animation, Children, Comedy, Fantasy]</td>\n",
       "      <td>[pixar, pixar, pixar, animation, pixar, animat...</td>\n",
       "    </tr>\n",
       "    <tr>\n",
       "      <th>1</th>\n",
       "      <td>2</td>\n",
       "      <td>Jumanji (1995)</td>\n",
       "      <td>[Adventure, Children, Fantasy]</td>\n",
       "      <td>[for children, game, animals, joe johnston, ro...</td>\n",
       "    </tr>\n",
       "    <tr>\n",
       "      <th>2</th>\n",
       "      <td>3</td>\n",
       "      <td>Grumpier Old Men (1995)</td>\n",
       "      <td>[Comedy, Romance]</td>\n",
       "      <td>[funniest movies, comedinha de velhinhos engra...</td>\n",
       "    </tr>\n",
       "    <tr>\n",
       "      <th>3</th>\n",
       "      <td>4</td>\n",
       "      <td>Waiting to Exhale (1995)</td>\n",
       "      <td>[Comedy, Drama, Romance]</td>\n",
       "      <td>[girl movie]</td>\n",
       "    </tr>\n",
       "    <tr>\n",
       "      <th>4</th>\n",
       "      <td>5</td>\n",
       "      <td>Father of the Bride Part II (1995)</td>\n",
       "      <td>[Comedy]</td>\n",
       "      <td>[steve martin, pregnancy, remake, steve martin...</td>\n",
       "    </tr>\n",
       "  </tbody>\n",
       "</table>\n",
       "</div>"
      ],
      "text/plain": [
       "   movie_id                               title  \\\n",
       "0         1                    Toy Story (1995)   \n",
       "1         2                      Jumanji (1995)   \n",
       "2         3             Grumpier Old Men (1995)   \n",
       "3         4            Waiting to Exhale (1995)   \n",
       "4         5  Father of the Bride Part II (1995)   \n",
       "\n",
       "                                               genre  \\\n",
       "0  [Adventure, Animation, Children, Comedy, Fantasy]   \n",
       "1                     [Adventure, Children, Fantasy]   \n",
       "2                                  [Comedy, Romance]   \n",
       "3                           [Comedy, Drama, Romance]   \n",
       "4                                           [Comedy]   \n",
       "\n",
       "                                                 tag  \n",
       "0  [pixar, pixar, pixar, animation, pixar, animat...  \n",
       "1  [for children, game, animals, joe johnston, ro...  \n",
       "2  [funniest movies, comedinha de velhinhos engra...  \n",
       "3                                       [girl movie]  \n",
       "4  [steve martin, pregnancy, remake, steve martin...  "
      ]
     },
     "execution_count": 20,
     "metadata": {},
     "output_type": "execute_result"
    }
   ],
   "source": [
    "# tag를 영화별로 list 형식으로 저장한다\n",
    "movie_tags = user_tagged_movies.groupby('movie_id').agg({'tag':list})\n",
    "\n",
    "# 내그 정보를 결합한다\n",
    "movies = movies.merge(movie_tags, on='movie_id', how='left')\n",
    "\n",
    "movies.head()"
   ]
  },
  {
   "cell_type": "markdown",
   "id": "f8e10204-0f9b-474f-81ca-2547c16c3800",
   "metadata": {},
   "source": [
    "#### 평가값 데이터\n",
    "- 평가값은 0.5 ~ 5.0까지 0.5 간격으로 표시\n",
    "- 데이터 수는 1,000만 건, 실험 시간은 알고리즘에 따라 몇 시간 ~ 며칠이 걸리기도 함"
   ]
  },
  {
   "cell_type": "code",
   "execution_count": 14,
   "id": "7d40fa13-c681-487e-a33b-467943206c3a",
   "metadata": {},
   "outputs": [
    {
     "data": {
      "text/html": [
       "<div>\n",
       "<style scoped>\n",
       "    .dataframe tbody tr th:only-of-type {\n",
       "        vertical-align: middle;\n",
       "    }\n",
       "\n",
       "    .dataframe tbody tr th {\n",
       "        vertical-align: top;\n",
       "    }\n",
       "\n",
       "    .dataframe thead th {\n",
       "        text-align: right;\n",
       "    }\n",
       "</style>\n",
       "<table border=\"1\" class=\"dataframe\">\n",
       "  <thead>\n",
       "    <tr style=\"text-align: right;\">\n",
       "      <th></th>\n",
       "      <th>user_id</th>\n",
       "      <th>movie_id</th>\n",
       "      <th>rating</th>\n",
       "      <th>timestamp</th>\n",
       "    </tr>\n",
       "  </thead>\n",
       "  <tbody>\n",
       "    <tr>\n",
       "      <th>0</th>\n",
       "      <td>1</td>\n",
       "      <td>122</td>\n",
       "      <td>5.0</td>\n",
       "      <td>838985046</td>\n",
       "    </tr>\n",
       "    <tr>\n",
       "      <th>1</th>\n",
       "      <td>1</td>\n",
       "      <td>185</td>\n",
       "      <td>5.0</td>\n",
       "      <td>838983525</td>\n",
       "    </tr>\n",
       "    <tr>\n",
       "      <th>2</th>\n",
       "      <td>1</td>\n",
       "      <td>231</td>\n",
       "      <td>5.0</td>\n",
       "      <td>838983392</td>\n",
       "    </tr>\n",
       "    <tr>\n",
       "      <th>3</th>\n",
       "      <td>1</td>\n",
       "      <td>292</td>\n",
       "      <td>5.0</td>\n",
       "      <td>838983421</td>\n",
       "    </tr>\n",
       "    <tr>\n",
       "      <th>4</th>\n",
       "      <td>1</td>\n",
       "      <td>316</td>\n",
       "      <td>5.0</td>\n",
       "      <td>838983392</td>\n",
       "    </tr>\n",
       "  </tbody>\n",
       "</table>\n",
       "</div>"
      ],
      "text/plain": [
       "   user_id  movie_id  rating  timestamp\n",
       "0        1       122     5.0  838985046\n",
       "1        1       185     5.0  838983525\n",
       "2        1       231     5.0  838983392\n",
       "3        1       292     5.0  838983421\n",
       "4        1       316     5.0  838983392"
      ]
     },
     "execution_count": 14,
     "metadata": {},
     "output_type": "execute_result"
    }
   ],
   "source": [
    "# 평갓값 데이터 로딩\n",
    "r_cols = ['user_id', 'movie_id', 'rating', 'timestamp']\n",
    "ratings = pd.read_csv('./data/ml-10M100K/ratings.dat', names=r_cols, sep='::', engine='python')\n",
    "ratings.head()"
   ]
  },
  {
   "cell_type": "markdown",
   "id": "54795bcf-4d7c-40ce-b985-59794cf4d8a7",
   "metadata": {},
   "source": [
    "- 실무에서는 데이터를 샘플링하여 작은 데이터셋으로 빠르게 실험을 반복하고 알고리즘을 선정하여 큰 데이터셋으로 실험\n",
    "- 실무 검증 시에는 샘플링 방법에도 주의해야 함 -> 샘플링이 특정 사용자 세그먼트에 치우쳐 있으면 알고리즘 비교도 공평하게 되지 않음\n",
    "- 데이터 양이 많으므로 사용자 수를 1,000명으로 제한하여 통계 정보 확인"
   ]
  },
  {
   "cell_type": "code",
   "execution_count": 15,
   "id": "38772fd8-9e1b-48aa-b74c-c4e806379a27",
   "metadata": {},
   "outputs": [
    {
     "data": {
      "text/html": [
       "<div>\n",
       "<style scoped>\n",
       "    .dataframe tbody tr th:only-of-type {\n",
       "        vertical-align: middle;\n",
       "    }\n",
       "\n",
       "    .dataframe tbody tr th {\n",
       "        vertical-align: top;\n",
       "    }\n",
       "\n",
       "    .dataframe thead th {\n",
       "        text-align: right;\n",
       "    }\n",
       "</style>\n",
       "<table border=\"1\" class=\"dataframe\">\n",
       "  <thead>\n",
       "    <tr style=\"text-align: right;\">\n",
       "      <th></th>\n",
       "      <th>user_id</th>\n",
       "      <th>movie_id</th>\n",
       "      <th>rating</th>\n",
       "      <th>timestamp</th>\n",
       "    </tr>\n",
       "  </thead>\n",
       "  <tbody>\n",
       "    <tr>\n",
       "      <th>0</th>\n",
       "      <td>1</td>\n",
       "      <td>122</td>\n",
       "      <td>5.0</td>\n",
       "      <td>838985046</td>\n",
       "    </tr>\n",
       "    <tr>\n",
       "      <th>1</th>\n",
       "      <td>1</td>\n",
       "      <td>185</td>\n",
       "      <td>5.0</td>\n",
       "      <td>838983525</td>\n",
       "    </tr>\n",
       "    <tr>\n",
       "      <th>2</th>\n",
       "      <td>1</td>\n",
       "      <td>231</td>\n",
       "      <td>5.0</td>\n",
       "      <td>838983392</td>\n",
       "    </tr>\n",
       "    <tr>\n",
       "      <th>3</th>\n",
       "      <td>1</td>\n",
       "      <td>292</td>\n",
       "      <td>5.0</td>\n",
       "      <td>838983421</td>\n",
       "    </tr>\n",
       "    <tr>\n",
       "      <th>4</th>\n",
       "      <td>1</td>\n",
       "      <td>316</td>\n",
       "      <td>5.0</td>\n",
       "      <td>838983392</td>\n",
       "    </tr>\n",
       "  </tbody>\n",
       "</table>\n",
       "</div>"
      ],
      "text/plain": [
       "   user_id  movie_id  rating  timestamp\n",
       "0        1       122     5.0  838985046\n",
       "1        1       185     5.0  838983525\n",
       "2        1       231     5.0  838983392\n",
       "3        1       292     5.0  838983421\n",
       "4        1       316     5.0  838983392"
      ]
     },
     "execution_count": 15,
     "metadata": {},
     "output_type": "execute_result"
    }
   ],
   "source": [
    "# 데이터량이 많으므로 사용자 수를 1000명으로 줄여서 시험한다\n",
    "valid_user_ids = sorted(ratings.user_id.unique())[:1000]\n",
    "ratings = ratings[ratings[\"user_id\"].isin(valid_user_ids)]\n",
    "ratings.head()"
   ]
  },
  {
   "cell_type": "code",
   "execution_count": 21,
   "id": "903470f7-2405-4eb3-976e-c7795118c34a",
   "metadata": {},
   "outputs": [
    {
     "data": {
      "text/html": [
       "<div>\n",
       "<style scoped>\n",
       "    .dataframe tbody tr th:only-of-type {\n",
       "        vertical-align: middle;\n",
       "    }\n",
       "\n",
       "    .dataframe tbody tr th {\n",
       "        vertical-align: top;\n",
       "    }\n",
       "\n",
       "    .dataframe thead th {\n",
       "        text-align: right;\n",
       "    }\n",
       "</style>\n",
       "<table border=\"1\" class=\"dataframe\">\n",
       "  <thead>\n",
       "    <tr style=\"text-align: right;\">\n",
       "      <th></th>\n",
       "      <th>user_id</th>\n",
       "      <th>movie_id</th>\n",
       "      <th>rating</th>\n",
       "      <th>timestamp</th>\n",
       "      <th>title</th>\n",
       "      <th>genre</th>\n",
       "      <th>tag</th>\n",
       "    </tr>\n",
       "  </thead>\n",
       "  <tbody>\n",
       "    <tr>\n",
       "      <th>0</th>\n",
       "      <td>1</td>\n",
       "      <td>122</td>\n",
       "      <td>5.0</td>\n",
       "      <td>838985046</td>\n",
       "      <td>Boomerang (1992)</td>\n",
       "      <td>[Comedy, Romance]</td>\n",
       "      <td>[dating, nudity (topless - brief), can't remem...</td>\n",
       "    </tr>\n",
       "    <tr>\n",
       "      <th>1</th>\n",
       "      <td>1</td>\n",
       "      <td>185</td>\n",
       "      <td>5.0</td>\n",
       "      <td>838983525</td>\n",
       "      <td>Net, The (1995)</td>\n",
       "      <td>[Action, Crime, Thriller]</td>\n",
       "      <td>[computers, computers, internet, irwin winkler...</td>\n",
       "    </tr>\n",
       "    <tr>\n",
       "      <th>2</th>\n",
       "      <td>1</td>\n",
       "      <td>231</td>\n",
       "      <td>5.0</td>\n",
       "      <td>838983392</td>\n",
       "      <td>Dumb &amp; Dumber (1994)</td>\n",
       "      <td>[Comedy]</td>\n",
       "      <td>[jeff daniels, jim carrey, stupid, jim carrey,...</td>\n",
       "    </tr>\n",
       "    <tr>\n",
       "      <th>3</th>\n",
       "      <td>1</td>\n",
       "      <td>292</td>\n",
       "      <td>5.0</td>\n",
       "      <td>838983421</td>\n",
       "      <td>Outbreak (1995)</td>\n",
       "      <td>[Action, Drama, Sci-Fi, Thriller]</td>\n",
       "      <td>[biology, gross, disease, futuristmovies.com, ...</td>\n",
       "    </tr>\n",
       "    <tr>\n",
       "      <th>4</th>\n",
       "      <td>1</td>\n",
       "      <td>316</td>\n",
       "      <td>5.0</td>\n",
       "      <td>838983392</td>\n",
       "      <td>Stargate (1994)</td>\n",
       "      <td>[Action, Adventure, Sci-Fi]</td>\n",
       "      <td>[egypt, space, time travel, time travel, alien...</td>\n",
       "    </tr>\n",
       "  </tbody>\n",
       "</table>\n",
       "</div>"
      ],
      "text/plain": [
       "   user_id  movie_id  rating  timestamp                 title  \\\n",
       "0        1       122     5.0  838985046      Boomerang (1992)   \n",
       "1        1       185     5.0  838983525       Net, The (1995)   \n",
       "2        1       231     5.0  838983392  Dumb & Dumber (1994)   \n",
       "3        1       292     5.0  838983421       Outbreak (1995)   \n",
       "4        1       316     5.0  838983392       Stargate (1994)   \n",
       "\n",
       "                               genre  \\\n",
       "0                  [Comedy, Romance]   \n",
       "1          [Action, Crime, Thriller]   \n",
       "2                           [Comedy]   \n",
       "3  [Action, Drama, Sci-Fi, Thriller]   \n",
       "4        [Action, Adventure, Sci-Fi]   \n",
       "\n",
       "                                                 tag  \n",
       "0  [dating, nudity (topless - brief), can't remem...  \n",
       "1  [computers, computers, internet, irwin winkler...  \n",
       "2  [jeff daniels, jim carrey, stupid, jim carrey,...  \n",
       "3  [biology, gross, disease, futuristmovies.com, ...  \n",
       "4  [egypt, space, time travel, time travel, alien...  "
      ]
     },
     "execution_count": 21,
     "metadata": {},
     "output_type": "execute_result"
    }
   ],
   "source": [
    "# 영화 데이터와 평가 데이터를 결합한다\n",
    "movielens = ratings.merge(movies, on='movie_id')\n",
    "movielens.head()"
   ]
  },
  {
   "cell_type": "code",
   "execution_count": 23,
   "id": "3fb19b15-2fb3-4682-a0f6-31796588fe02",
   "metadata": {},
   "outputs": [
    {
     "name": "stdout",
     "output_type": "stream",
     "text": [
      "unique_users=1000, unique_movies=6736\n"
     ]
    }
   ],
   "source": [
    "print(f'unique_users={len(movielens.user_id.unique())}, unique_movies={len(movielens.movie_id.unique())}')"
   ]
  },
  {
   "cell_type": "markdown",
   "id": "96453768-f65b-4c43-a94a-29f28e27aad7",
   "metadata": {},
   "source": [
    "#### 사용자\n",
    "- 사용자 1,000명이 평가한 결과는 아래와 같음"
   ]
  },
  {
   "cell_type": "code",
   "execution_count": 10,
   "id": "1805882d-03bb-4965-bb7a-33d795c65bf6",
   "metadata": {},
   "outputs": [],
   "source": [
    "import numpy as np"
   ]
  },
  {
   "cell_type": "code",
   "execution_count": 11,
   "id": "b39f6c1a-09f8-4780-8094-c80f5f07eacb",
   "metadata": {},
   "outputs": [
    {
     "name": "stderr",
     "output_type": "stream",
     "text": [
      "/var/folders/hw/qxlf94851g5g0y_m9j7wxzj80000gn/T/ipykernel_25808/1606007401.py:2: FutureWarning: The provided callable <built-in function min> is currently using Series.min. In a future version of pandas, the provided callable will be used directly. To keep current behavior pass the string \"min\" instead.\n",
      "  movielens.groupby('user_id').agg({'movie_id': len}).agg({'movie_id':[min, max, np.mean, len]})\n",
      "/var/folders/hw/qxlf94851g5g0y_m9j7wxzj80000gn/T/ipykernel_25808/1606007401.py:2: FutureWarning: The provided callable <built-in function max> is currently using Series.max. In a future version of pandas, the provided callable will be used directly. To keep current behavior pass the string \"max\" instead.\n",
      "  movielens.groupby('user_id').agg({'movie_id': len}).agg({'movie_id':[min, max, np.mean, len]})\n",
      "/var/folders/hw/qxlf94851g5g0y_m9j7wxzj80000gn/T/ipykernel_25808/1606007401.py:2: FutureWarning: The provided callable <function mean at 0x10d399800> is currently using Series.mean. In a future version of pandas, the provided callable will be used directly. To keep current behavior pass the string \"mean\" instead.\n",
      "  movielens.groupby('user_id').agg({'movie_id': len}).agg({'movie_id':[min, max, np.mean, len]})\n"
     ]
    },
    {
     "data": {
      "text/html": [
       "<div>\n",
       "<style scoped>\n",
       "    .dataframe tbody tr th:only-of-type {\n",
       "        vertical-align: middle;\n",
       "    }\n",
       "\n",
       "    .dataframe tbody tr th {\n",
       "        vertical-align: top;\n",
       "    }\n",
       "\n",
       "    .dataframe thead th {\n",
       "        text-align: right;\n",
       "    }\n",
       "</style>\n",
       "<table border=\"1\" class=\"dataframe\">\n",
       "  <thead>\n",
       "    <tr style=\"text-align: right;\">\n",
       "      <th></th>\n",
       "      <th>movie_id</th>\n",
       "    </tr>\n",
       "  </thead>\n",
       "  <tbody>\n",
       "    <tr>\n",
       "      <th>min</th>\n",
       "      <td>20.00</td>\n",
       "    </tr>\n",
       "    <tr>\n",
       "      <th>max</th>\n",
       "      <td>1668.00</td>\n",
       "    </tr>\n",
       "    <tr>\n",
       "      <th>mean</th>\n",
       "      <td>132.83</td>\n",
       "    </tr>\n",
       "    <tr>\n",
       "      <th>len</th>\n",
       "      <td>1000.00</td>\n",
       "    </tr>\n",
       "  </tbody>\n",
       "</table>\n",
       "</div>"
      ],
      "text/plain": [
       "      movie_id\n",
       "min      20.00\n",
       "max    1668.00\n",
       "mean    132.83\n",
       "len    1000.00"
      ]
     },
     "execution_count": 11,
     "metadata": {},
     "output_type": "execute_result"
    }
   ],
   "source": [
    "# 사용자 정보\n",
    "movielens.groupby('user_id').agg({'movie_id': len}).agg({'movie_id':[min, max, np.mean, len]})"
   ]
  },
  {
   "cell_type": "markdown",
   "id": "db8f70ca-4de0-4da4-af7c-05dd8e3146b3",
   "metadata": {},
   "source": [
    "- 가장 평가 수가 적은 사용자는 20 작품을 평가\n",
    "- 가장 많은 사용자는 1,688 작품을 평가\n",
    "- 평균적으로 139 작품에 평가\n",
    "- 평가한 모든 사용자는 1,000명"
   ]
  },
  {
   "cell_type": "markdown",
   "id": "b4e4cffb-8125-4a01-a136-9c94525ec884",
   "metadata": {},
   "source": [
    "#### 영화\n",
    "- 평가된 영화에 대한 결과는 아래와 같음"
   ]
  },
  {
   "cell_type": "code",
   "execution_count": 26,
   "id": "40c719b1-b8d5-4d8a-841d-a749a24a6286",
   "metadata": {},
   "outputs": [
    {
     "name": "stderr",
     "output_type": "stream",
     "text": [
      "/var/folders/hw/qxlf94851g5g0y_m9j7wxzj80000gn/T/ipykernel_97967/1531360320.py:2: FutureWarning: The provided callable <built-in function min> is currently using Series.min. In a future version of pandas, the provided callable will be used directly. To keep current behavior pass the string \"min\" instead.\n",
      "  movielens.groupby('movie_id').agg({'user_id': len}).agg({'user_id':[min, max, np.mean, len]})\n",
      "/var/folders/hw/qxlf94851g5g0y_m9j7wxzj80000gn/T/ipykernel_97967/1531360320.py:2: FutureWarning: The provided callable <built-in function max> is currently using Series.max. In a future version of pandas, the provided callable will be used directly. To keep current behavior pass the string \"max\" instead.\n",
      "  movielens.groupby('movie_id').agg({'user_id': len}).agg({'user_id':[min, max, np.mean, len]})\n",
      "/var/folders/hw/qxlf94851g5g0y_m9j7wxzj80000gn/T/ipykernel_97967/1531360320.py:2: FutureWarning: The provided callable <function mean at 0x10ce64a40> is currently using Series.mean. In a future version of pandas, the provided callable will be used directly. To keep current behavior pass the string \"mean\" instead.\n",
      "  movielens.groupby('movie_id').agg({'user_id': len}).agg({'user_id':[min, max, np.mean, len]})\n"
     ]
    },
    {
     "data": {
      "text/html": [
       "<div>\n",
       "<style scoped>\n",
       "    .dataframe tbody tr th:only-of-type {\n",
       "        vertical-align: middle;\n",
       "    }\n",
       "\n",
       "    .dataframe tbody tr th {\n",
       "        vertical-align: top;\n",
       "    }\n",
       "\n",
       "    .dataframe thead th {\n",
       "        text-align: right;\n",
       "    }\n",
       "</style>\n",
       "<table border=\"1\" class=\"dataframe\">\n",
       "  <thead>\n",
       "    <tr style=\"text-align: right;\">\n",
       "      <th></th>\n",
       "      <th>user_id</th>\n",
       "    </tr>\n",
       "  </thead>\n",
       "  <tbody>\n",
       "    <tr>\n",
       "      <th>min</th>\n",
       "      <td>1.000000</td>\n",
       "    </tr>\n",
       "    <tr>\n",
       "      <th>max</th>\n",
       "      <td>496.000000</td>\n",
       "    </tr>\n",
       "    <tr>\n",
       "      <th>mean</th>\n",
       "      <td>19.719418</td>\n",
       "    </tr>\n",
       "    <tr>\n",
       "      <th>len</th>\n",
       "      <td>6736.000000</td>\n",
       "    </tr>\n",
       "  </tbody>\n",
       "</table>\n",
       "</div>"
      ],
      "text/plain": [
       "          user_id\n",
       "min      1.000000\n",
       "max    496.000000\n",
       "mean    19.719418\n",
       "len   6736.000000"
      ]
     },
     "execution_count": 26,
     "metadata": {},
     "output_type": "execute_result"
    }
   ],
   "source": [
    "# 영화 정보\n",
    "movielens.groupby('movie_id').agg({'user_id': len}).agg({'user_id':[min, max, np.mean, len]})"
   ]
  },
  {
   "cell_type": "markdown",
   "id": "cbf3e6c7-34ee-44d6-88d1-55caeb48e44b",
   "metadata": {},
   "source": [
    "- 평가 수가 가장 적은 영화는 1명이 평가\n",
    "- 평가 수가 가장 많은 영화는 496명 평가\n",
    "- 각 영화는 평균 20명이 평가\n",
    "- 평과된 모든 영화는 6,736 작품"
   ]
  },
  {
   "cell_type": "markdown",
   "id": "5e7138f6-9b0d-4ac9-9c40-5fbe9669662a",
   "metadata": {},
   "source": [
    "#### 평가값\n",
    "- 아래는 평가값에 대한 결과"
   ]
  },
  {
   "cell_type": "code",
   "execution_count": 27,
   "id": "025f5664-f611-4978-9984-412b6e2a58cd",
   "metadata": {},
   "outputs": [
    {
     "name": "stdout",
     "output_type": "stream",
     "text": [
      "평갓값 수=132830\n"
     ]
    }
   ],
   "source": [
    "print(f'평갓값 수={len(movielens)}')"
   ]
  },
  {
   "cell_type": "code",
   "execution_count": 28,
   "id": "4cebc826-fe90-4937-9ed3-9148a4769618",
   "metadata": {},
   "outputs": [
    {
     "data": {
      "text/html": [
       "<div>\n",
       "<style scoped>\n",
       "    .dataframe tbody tr th:only-of-type {\n",
       "        vertical-align: middle;\n",
       "    }\n",
       "\n",
       "    .dataframe tbody tr th {\n",
       "        vertical-align: top;\n",
       "    }\n",
       "\n",
       "    .dataframe thead th {\n",
       "        text-align: right;\n",
       "    }\n",
       "</style>\n",
       "<table border=\"1\" class=\"dataframe\">\n",
       "  <thead>\n",
       "    <tr style=\"text-align: right;\">\n",
       "      <th></th>\n",
       "      <th>movie_id</th>\n",
       "    </tr>\n",
       "    <tr>\n",
       "      <th>rating</th>\n",
       "      <th></th>\n",
       "    </tr>\n",
       "  </thead>\n",
       "  <tbody>\n",
       "    <tr>\n",
       "      <th>0.5</th>\n",
       "      <td>851</td>\n",
       "    </tr>\n",
       "    <tr>\n",
       "      <th>1.0</th>\n",
       "      <td>4847</td>\n",
       "    </tr>\n",
       "    <tr>\n",
       "      <th>1.5</th>\n",
       "      <td>1247</td>\n",
       "    </tr>\n",
       "    <tr>\n",
       "      <th>2.0</th>\n",
       "      <td>10292</td>\n",
       "    </tr>\n",
       "    <tr>\n",
       "      <th>2.5</th>\n",
       "      <td>3729</td>\n",
       "    </tr>\n",
       "    <tr>\n",
       "      <th>3.0</th>\n",
       "      <td>31706</td>\n",
       "    </tr>\n",
       "    <tr>\n",
       "      <th>3.5</th>\n",
       "      <td>9661</td>\n",
       "    </tr>\n",
       "    <tr>\n",
       "      <th>4.0</th>\n",
       "      <td>39917</td>\n",
       "    </tr>\n",
       "    <tr>\n",
       "      <th>4.5</th>\n",
       "      <td>6949</td>\n",
       "    </tr>\n",
       "    <tr>\n",
       "      <th>5.0</th>\n",
       "      <td>23631</td>\n",
       "    </tr>\n",
       "  </tbody>\n",
       "</table>\n",
       "</div>"
      ],
      "text/plain": [
       "        movie_id\n",
       "rating          \n",
       "0.5          851\n",
       "1.0         4847\n",
       "1.5         1247\n",
       "2.0        10292\n",
       "2.5         3729\n",
       "3.0        31706\n",
       "3.5         9661\n",
       "4.0        39917\n",
       "4.5         6949\n",
       "5.0        23631"
      ]
     },
     "execution_count": 28,
     "metadata": {},
     "output_type": "execute_result"
    }
   ],
   "source": [
    "movielens.groupby('rating').agg({'movie_id': len})"
   ]
  },
  {
   "cell_type": "markdown",
   "id": "d5e9e365-4142-460b-b9a6-b756b3b4afdc",
   "metadata": {},
   "source": [
    "- 모든 평가는 132,830건\n",
    "- 평가값 중 4.0이 39,917건으로 가장 많음"
   ]
  },
  {
   "cell_type": "code",
   "execution_count": 31,
   "id": "1425f214-bb3d-4b30-8bcc-8471d2b9b933",
   "metadata": {},
   "outputs": [
    {
     "name": "stdout",
     "output_type": "stream",
     "text": [
      "Collecting matplotlib\n",
      "  Downloading matplotlib-3.8.3-cp311-cp311-macosx_10_12_x86_64.whl.metadata (5.8 kB)\n",
      "Collecting contourpy>=1.0.1 (from matplotlib)\n",
      "  Using cached contourpy-1.2.0-cp311-cp311-macosx_10_9_x86_64.whl.metadata (5.8 kB)\n",
      "Collecting cycler>=0.10 (from matplotlib)\n",
      "  Using cached cycler-0.12.1-py3-none-any.whl.metadata (3.8 kB)\n",
      "Collecting fonttools>=4.22.0 (from matplotlib)\n",
      "  Downloading fonttools-4.49.0-cp311-cp311-macosx_10_9_x86_64.whl.metadata (159 kB)\n",
      "\u001b[2K     \u001b[38;2;114;156;31m━━━━━━━━━━━━━━━━━━━━━━━━━━━━━━━━━━━━━━━\u001b[0m \u001b[32m159.1/159.1 kB\u001b[0m \u001b[31m2.9 MB/s\u001b[0m eta \u001b[36m0:00:00\u001b[0m[31m6.4 MB/s\u001b[0m eta \u001b[36m0:00:01\u001b[0m\n",
      "\u001b[?25hCollecting kiwisolver>=1.3.1 (from matplotlib)\n",
      "  Using cached kiwisolver-1.4.5-cp311-cp311-macosx_10_9_x86_64.whl.metadata (6.4 kB)\n",
      "Requirement already satisfied: numpy<2,>=1.21 in /Users/jeremyshin/.pyenv/versions/3.11.3/envs/recommender/lib/python3.11/site-packages (from matplotlib) (1.26.4)\n",
      "Requirement already satisfied: packaging>=20.0 in /Users/jeremyshin/.pyenv/versions/3.11.3/envs/recommender/lib/python3.11/site-packages (from matplotlib) (23.2)\n",
      "Collecting pillow>=8 (from matplotlib)\n",
      "  Downloading pillow-10.2.0-cp311-cp311-macosx_10_10_x86_64.whl.metadata (9.7 kB)\n",
      "Collecting pyparsing>=2.3.1 (from matplotlib)\n",
      "  Using cached pyparsing-3.1.1-py3-none-any.whl.metadata (5.1 kB)\n",
      "Requirement already satisfied: python-dateutil>=2.7 in /Users/jeremyshin/.pyenv/versions/3.11.3/envs/recommender/lib/python3.11/site-packages (from matplotlib) (2.8.2)\n",
      "Requirement already satisfied: six>=1.5 in /Users/jeremyshin/.pyenv/versions/3.11.3/envs/recommender/lib/python3.11/site-packages (from python-dateutil>=2.7->matplotlib) (1.16.0)\n",
      "Downloading matplotlib-3.8.3-cp311-cp311-macosx_10_12_x86_64.whl (7.6 MB)\n",
      "\u001b[2K   \u001b[38;2;114;156;31m━━━━━━━━━━━━━━━━━━━━━━━━━━━━━━━━━━━━━━━━\u001b[0m \u001b[32m7.6/7.6 MB\u001b[0m \u001b[31m8.1 MB/s\u001b[0m eta \u001b[36m0:00:00\u001b[0mm eta \u001b[36m0:00:01\u001b[0m[36m0:00:01\u001b[0m\n",
      "\u001b[?25hUsing cached contourpy-1.2.0-cp311-cp311-macosx_10_9_x86_64.whl (258 kB)\n",
      "Using cached cycler-0.12.1-py3-none-any.whl (8.3 kB)\n",
      "Downloading fonttools-4.49.0-cp311-cp311-macosx_10_9_x86_64.whl (2.3 MB)\n",
      "\u001b[2K   \u001b[38;2;114;156;31m━━━━━━━━━━━━━━━━━━━━━━━━━━━━━━━━━━━━━━━━\u001b[0m \u001b[32m2.3/2.3 MB\u001b[0m \u001b[31m9.7 MB/s\u001b[0m eta \u001b[36m0:00:00\u001b[0m[31m11.0 MB/s\u001b[0m eta \u001b[36m0:00:01\u001b[0m\n",
      "\u001b[?25hUsing cached kiwisolver-1.4.5-cp311-cp311-macosx_10_9_x86_64.whl (68 kB)\n",
      "Downloading pillow-10.2.0-cp311-cp311-macosx_10_10_x86_64.whl (3.5 MB)\n",
      "\u001b[2K   \u001b[38;2;114;156;31m━━━━━━━━━━━━━━━━━━━━━━━━━━━━━━━━━━━━━━━━\u001b[0m \u001b[32m3.5/3.5 MB\u001b[0m \u001b[31m9.5 MB/s\u001b[0m eta \u001b[36m0:00:00\u001b[0m0m eta \u001b[36m0:00:01\u001b[0m0:01\u001b[0m01\u001b[0m\n",
      "\u001b[?25hUsing cached pyparsing-3.1.1-py3-none-any.whl (103 kB)\n",
      "Installing collected packages: pyparsing, pillow, kiwisolver, fonttools, cycler, contourpy, matplotlib\n",
      "Successfully installed contourpy-1.2.0 cycler-0.12.1 fonttools-4.49.0 kiwisolver-1.4.5 matplotlib-3.8.3 pillow-10.2.0 pyparsing-3.1.1\n"
     ]
    }
   ],
   "source": [
    "!pip install matplotlib"
   ]
  },
  {
   "cell_type": "code",
   "execution_count": 32,
   "id": "a07f613d-2e50-4bab-859e-fea79139131e",
   "metadata": {},
   "outputs": [
    {
     "data": {
      "text/plain": [
       "<Axes: xlabel='rating'>"
      ]
     },
     "execution_count": 32,
     "metadata": {},
     "output_type": "execute_result"
    },
    {
     "data": {
      "image/png": "[encoded data removed]",
      "text/plain": [
       "<Figure size 640x480 with 1 Axes>"
      ]
     },
     "metadata": {},
     "output_type": "display_data"
    }
   ],
   "source": [
    "movielens.groupby('rating').agg({'movie_id': len}).plot.bar()"
   ]
  },
  {
   "cell_type": "markdown",
   "id": "cf5ddd26-295a-4d27-9ede-fd4a459ad3dd",
   "metadata": {},
   "source": [
    "### 5.2.3 평가 방법\n",
    "- 각 추천 알고리즘의 성능을 측정하는 방법 (자세한 설명은 7장 참고)\n",
    "- 여기서는 평가값 데이터를 간단하게 추천 알고리즘 학습용 / 평가 테스트용 2가지로 나눔\n",
    "- 기준\n",
    "  - 사용자는 적어도 20편 이상의 영화를 평가\n",
    "  - 가장 최근에 평가한 5개 영화의 평가값을 테스트 용으로 남겨두고 그외의 데이터를 학습용으로 사용"
   ]
  },
  {
   "cell_type": "code",
   "execution_count": 33,
   "id": "b152a4ce-c5b5-41ce-b202-bf0356e3526c",
   "metadata": {},
   "outputs": [],
   "source": [
    "# 학습용과 테스트용으로 데이터를 분할한다\n",
    "# 각 사용자의 직전 5건의 영화를 평가용으로 사용하고, 그 이외는 학습용으로 한다\n",
    "# 먼저, 각 사용자가 평가한 영화의 순서를 계산한다\n",
    "# 직전에 부여한 영화부터 순번을 부여한다(1부터 시작)\n",
    "\n",
    "movielens['timestamp_rank'] = movielens.groupby(\n",
    "    'user_id')['timestamp'].rank(ascending=False, method='first')\n",
    "movielens_train = movielens[movielens['timestamp_rank'] > 5]\n",
    "movielens_test = movielens[movielens['timestamp_rank']<= 5]"
   ]
  },
  {
   "cell_type": "markdown",
   "id": "56b7ce0e-54da-42a4-a961-57d5bfbee9ba",
   "metadata": {},
   "source": [
    "- 학습용 데이터를 사용해 사용자가 가장 최근에 평가한 5개 영화의 평가값을 얼마나 정확하게 예측할 수 있는가로 알고리즘 성능을 평가\n",
    "- 지표로 RMSE(root mean squared error)를 사용.\n",
    "  - 예측이 실제 평가값과 완전히 일치하면 RMSE는 0이 됨\n",
    "  - RMSE가 작을수록 추천 알고리즘 성능이 좋다고 할 수 있음"
   ]
  },
  {
   "cell_type": "code",
   "execution_count": 35,
   "id": "05cc61db-086c-48b0-b94f-7dd2b6221b5b",
   "metadata": {},
   "outputs": [
    {
     "name": "stdout",
     "output_type": "stream",
     "text": [
      "Requirement already satisfied: scikit-learn in /Users/jeremyshin/.pyenv/versions/3.11.3/envs/recommender/lib/python3.11/site-packages (1.4.1.post1)\n",
      "Requirement already satisfied: numpy<2.0,>=1.19.5 in /Users/jeremyshin/.pyenv/versions/3.11.3/envs/recommender/lib/python3.11/site-packages (from scikit-learn) (1.26.4)\n",
      "Requirement already satisfied: scipy>=1.6.0 in /Users/jeremyshin/.pyenv/versions/3.11.3/envs/recommender/lib/python3.11/site-packages (from scikit-learn) (1.12.0)\n",
      "Requirement already satisfied: joblib>=1.2.0 in /Users/jeremyshin/.pyenv/versions/3.11.3/envs/recommender/lib/python3.11/site-packages (from scikit-learn) (1.3.2)\n",
      "Requirement already satisfied: threadpoolctl>=2.0.0 in /Users/jeremyshin/.pyenv/versions/3.11.3/envs/recommender/lib/python3.11/site-packages (from scikit-learn) (3.3.0)\n"
     ]
    }
   ],
   "source": [
    "! pip install scikit-learn"
   ]
  },
  {
   "cell_type": "code",
   "execution_count": 43,
   "id": "d2f38d6c-622e-4849-8dc3-39bcf089e70c",
   "metadata": {},
   "outputs": [],
   "source": [
    "from typing import List\n",
    "from sklearn.metrics import mean_squared_error\n",
    "\n",
    "def calc_rmse(self, true_rating: List[float], pred_rating: List[float]) -> float:\n",
    "    return np.sqrt(mean_squared_error(true_rating, pred_rating))"
   ]
  },
  {
   "cell_type": "markdown",
   "id": "b56e491a-bdbb-47ff-9f4c-d6f29dc6d8e6",
   "metadata": {},
   "source": [
    "- `Precision@K`, `Recall@K` 라는 순위 지표로도 추천 알고리즘을 평가함\n",
    "- Precision@K\n",
    "  - 사용자에게 K개의 아이템을 추천했을 때 그 중 선호하는 아이템의 비율\n",
    "- Recall@K\n",
    "  - 사용자에게 K개의 아이템을 추천했을 때 사용자가 선호하는 아이템 그룹 중 몇 개 맞았는가를 나타내는 비율\n",
    "\n",
    "- 사용자 별로 Precision@K, Recall@K를 계산해서 Precision@K의 평균과 Recall@K의 평균을 평가지표로 사용\n",
    "- `Precision@K`, `Recall@K` 순위가 RMSE보다 직관적이므로 실무에서는 순위 지표도 함께 사용하는 것을 권장\n",
    "- 별 4개와 같은 평가값 데이터가 없는 경우는 클릭이나 구매 등의 암묵적인 평가값으로 순위 지표만 사용 (자세한 내용은 7장)"
   ]
  },
  {
   "cell_type": "code",
   "execution_count": 45,
   "id": "e69e7adc-c958-4621-93fc-e5d7182eed0b",
   "metadata": {},
   "outputs": [],
   "source": [
    "from typing import Dict\n",
    "\n",
    "def calc_recall_at_k(\n",
    "    self, true_user2items: Dict[int, List[int]], pred_user2items: Dict[int, List[int]], k: int\n",
    ") -> float:\n",
    "    scores = []\n",
    "    # 테스트 데이터에 존재하는 각 사용자의 recall@k를 계산\n",
    "    for user_id in true_user2items.keys():\n",
    "        r_at_k = self._recall_at_k(true_user2items[user_id], pred_user2items[user_id], k)\n",
    "        scores.append(r_at_k)\n",
    "    return np.mean(scores)\n",
    "\n",
    "def recall_at_k(self, true_items: List[int], pred_items: List[int], k: int) -> float:\n",
    "    if len(true_items) == 0 or k == 0:\n",
    "        return 0.0\n",
    "\n",
    "    r_at_k = (len(set(true_items) & set(pred_items[:k]))) / len(true_items)\n",
    "    return r_at_k\n",
    "\n",
    "def calc_precision_at_k(\n",
    "    self, true_user2items: Dict[int, List[int]], pred_user2items: Dict[int, List[int]], k: int\n",
    ") -> float:\n",
    "    scores = []\n",
    "    # 테스트 데이터에 존재하는 각 사용자의 precision@k를 계산한다\n",
    "    for user_id in true_user2items.keys():\n",
    "        p_at_k = self._precision_at_k(true_user2items[user_id], pred_user2items[user_id], k)\n",
    "        scores.append(p_at_k)\n",
    "    return np.mean(scores)\n",
    "\n",
    "def precision_at_k(self, true_items: List[int], pred_items: List[int], k: int) -> float:\n",
    "    if k == 0:\n",
    "        return 0.0\n",
    "\n",
    "    p_at_k = (len(set(true_items) & set(pred_items[:k]))) / k\n",
    "    return p_at_k"
   ]
  },
  {
   "cell_type": "markdown",
   "id": "3af2d71a-79fb-42e7-996a-c7a6a06457cb",
   "metadata": {},
   "source": [
    "### 5.2.4 통일된 포멧을 활용한 계산\n",
    "- 통일된 형식으로 기술하면 시스템에 삽입할 떄 알고리즘을 교체하기 쉽고 예측 정확도를 평가하기 쉬움\n",
    "  - 초보자나 추천 알고리즘을 빠르게 시험하고 싶다면 깃허브에 통일 모듈을 사요하지 않은 알고리즘이 있으니 참고\n",
    "    ```python\n",
    "        from util.data_loader import DataLoader\n",
    "        from util.metric_calculator import MetricCalculator\n",
    "        \n",
    "        # 1. MovieLens 데이터 로딩\n",
    "        data_loader = DataLoader(num_users=1000, num_test_items=5, data_path='./data/ml-10M100K/')\n",
    "        movielens = data_loader.load()\n",
    "        \n",
    "        # 2. 각종 알고리즘 구현\n",
    "        recommender = XXXRecommender()\n",
    "        recommend_result = recommender.recommend(movielens)\n",
    "        \n",
    "        # 3. 평가 지표 계산\n",
    "        metric_calculator = MetricCalculator()\n",
    "        metrics = metric_calculator.calc(\n",
    "            movielens.test.rating.tolist(), recoomend_result.rating.tolist(),\n",
    "            movielens.test_user2items, recoomend_result.user2items, k=10)\n",
    "        print(metrics)\n",
    "    ```\n",
    "\n",
    "#### 1. MovieLens 데이터 로딩\n",
    "- 이제까지 소개한 각 파일의 읽기와 학습용 데이터, 테스트용 데이터 분할 처리 등을 재사용할 수 있게 하기 위해 DataLoader 클래스 안에 정의\n",
    "  - (util.data_loader 클래스에서 확인 가능)\n",
    "- DataLoader는 Dataset 클래스를 반환\n",
    "  - train에는 학습용, test에는 테스트용 평가값 데이터셋이 pandas 데이터프레임 형식으로 저장됨\n",
    "  - test_user2items에는 각 사용자가 4 이상의 평가값을 준 아이템이 저장되어 있어 `Precision@K`나 `Recall@K` 순위 지표 계산에 사용 가능\n",
    "  - item_content는 영화의 태그나 장르가 저장된 영화 마스터 데이터임 (콘텐츠 기반 추천에서 사용)"
   ]
  },
  {
   "cell_type": "code",
   "execution_count": 6,
   "id": "ca61027e-617c-49ba-bacb-e41ac6db4139",
   "metadata": {},
   "outputs": [],
   "source": [
    "import dataclasses\n",
    "import pandas as pd\n",
    "from typing import Dict, List\n",
    "\n",
    "@dataclasses.dataclass(frozen=True)\n",
    "# 추천 시스템 학습과 평가에 사용하는 데이터셋\n",
    "class Dataset:\n",
    "    # 학습용 평가값 데이터셋\n",
    "    train: pd.DataFrame\n",
    "    # 테스트용 평가값 데이터셋\n",
    "    test: pd.DataFrame\n",
    "    # 순위 지표 테스트 데이터셋\n",
    "    # 키는 사용자 ID, 값은 사용자가 높게 평가한 아이템 ID 리스트\n",
    "    test_user2items: Dict[int, List[int]]\n",
    "    # 아이템 콘텐츠 정보\n",
    "    item_content: pd.DataFrame"
   ]
  },
  {
   "cell_type": "markdown",
   "id": "33d1e611-d24e-42de-b8ab-dec883db8261",
   "metadata": {},
   "source": [
    "#### 2. 각종 알고리즘 구현\n",
    "- dataset을 받아 테스트 데이터의 추천 겨로가를 반환하는 알고리즘을 구현\n",
    "- 각 알고리즘은 다음 BaseRecommender 클래스를 상속하는 형태로 구현 (src.base_recommender 에서 확인)\n",
    "  - 추천 결과는 RecommendResult 클래스에서 데이터셋의 예측 평가와 각 사용자에 대한 추천 아이템 리스트를 가짐"
   ]
  },
  {
   "cell_type": "code",
   "execution_count": 7,
   "id": "0352ced2-5623-4baf-873f-6183ff8b1a79",
   "metadata": {},
   "outputs": [],
   "source": [
    "import dataclasses\n",
    "# util.models 에서 확인\n",
    "@dataclasses.dataclass(frozen=True)\n",
    "# 추천 시스템의 예측 결과\n",
    "class RecommendResult:\n",
    "    # 테스트 데이터셋의 예측 평가값. RMSE 평가\n",
    "    rating: pd.DataFrame\n",
    "    # 키는 사용자 Id, 값은 추천 아이템 ID 리스트. 순위 지표 평가\n",
    "    user2items: Dict[int, List[int]]"
   ]
  },
  {
   "cell_type": "markdown",
   "id": "cc0e6588-396e-4c05-8448-3fd469aea201",
   "metadata": {},
   "source": [
    "- BaseRecommender 클레스에는 run_sample 함수가 있으며 소량의 학습 데이터로 알고리즘을 실행해 그 결과를 확인할 수 있음\n",
    "\n",
    "#### 3. 평가 지표 계산\n",
    "- 추천 결과를 기반으로 MetricCalculator를 사용해 RMSE 순위 지표의 `Precision@K`, `Recall@K`를 계산"
   ]
  },
  {
   "cell_type": "code",
   "execution_count": 16,
   "id": "532c9fbe-9c7e-4f9a-84c7-18e6a37f2480",
   "metadata": {},
   "outputs": [],
   "source": [
    "import numpy as np\n",
    "from sklearn.metrics import mean_squared_error\n",
    "from util.models import Metrics\n",
    "from typing import Dict, List\n",
    "\n",
    "\n",
    "class MetricCalculator:\n",
    "    def calc(\n",
    "        self,\n",
    "        true_rating: List[float],\n",
    "        pred_rating: List[float],\n",
    "        true_user2items: Dict[int, List[int]],\n",
    "        pred_user2items: Dict[int, List[int]],\n",
    "        k: int,\n",
    "    ) -> Metrics:\n",
    "        rmse = self._calc_rmse(true_rating, pred_rating)\n",
    "        precision_at_k = self._calc_precision_at_k(true_user2items, pred_user2items, k)\n",
    "        recall_at_k = self._calc_recall_at_k(true_user2items, pred_user2items, k)\n",
    "        return Metrics(rmse, precision_at_k, recall_at_k)\n",
    "\n",
    "    def _precision_at_k(self, true_items: List[int], pred_items: List[int], k: int) -> float:\n",
    "        if k == 0:\n",
    "            return 0.0\n",
    "\n",
    "        p_at_k = (len(set(true_items) & set(pred_items[:k]))) / k\n",
    "        return p_at_k\n",
    "\n",
    "    def _recall_at_k(self, true_items: List[int], pred_items: List[int], k: int) -> float:\n",
    "        if len(true_items) == 0 or k == 0:\n",
    "            return 0.0\n",
    "\n",
    "        r_at_k = (len(set(true_items) & set(pred_items[:k]))) / len(true_items)\n",
    "        return r_at_k\n",
    "\n",
    "    def _calc_rmse(self, true_rating: List[float], pred_rating: List[float]) -> float:\n",
    "        return np.sqrt(mean_squared_error(true_rating, pred_rating))\n",
    "\n",
    "    def _calc_recall_at_k(\n",
    "        self, true_user2items: Dict[int, List[int]], pred_user2items: Dict[int, List[int]], k: int\n",
    "    ) -> float:\n",
    "        scores = []\n",
    "        # テストデータに存在する各ユーザーのrecall@kを計算\n",
    "        for user_id in true_user2items.keys():\n",
    "            r_at_k = self._recall_at_k(true_user2items[user_id], pred_user2items[user_id], k)\n",
    "            scores.append(r_at_k)\n",
    "        return np.mean(scores)\n",
    "\n",
    "    def _calc_precision_at_k(\n",
    "        self, true_user2items: Dict[int, List[int]], pred_user2items: Dict[int, List[int]], k: int\n",
    "    ) -> float:\n",
    "        scores = []\n",
    "        # 테스트 데이터에 존재하는 각 사용자의 precision@k를 계산한다\n",
    "        for user_id in true_user2items.keys():\n",
    "            p_at_k = self._precision_at_k(true_user2items[user_id], pred_user2items[user_id], k)\n",
    "            scores.append(p_at_k)\n",
    "        return np.mean(scores)"
   ]
  },
  {
   "cell_type": "markdown",
   "id": "4553dd2a-e1f9-45da-ae9c-d1c274f0ef9b",
   "metadata": {},
   "source": [
    "### 5.3 무작위 추천\n",
    "- 먼저 베이스라인 성능이 얼마나 나오는지 확인\n",
    "- MovieLens의 평가값은 0.5~5.0이므로 해당 점수 범위로 난수를 발생시키고 그것을 예측 평가값으로 사용\n",
    "- 학습용 데이터에 나타난 사용자와 아이템으로 사용자x아이템의 행렬을 만들고 각 셀에 난수를 저장\n",
    "- 순위 지표 계산용으로 prod_user2items라는 딕셔너리를 작성하고 key에 user_id, value에 아직 사용자가 평가하지 않은 영화부터 무작위로 10개의 영화를 저장"
   ]
  },
  {
   "cell_type": "code",
   "execution_count": 1,
   "id": "80bcb05c-4bf4-4a27-96dd-59467668ec2c",
   "metadata": {},
   "outputs": [
    {
     "name": "stdout",
     "output_type": "stream",
     "text": [
      "rmse=1.890, Precision@K=0.001, Recall@K=0.001\n"
     ]
    }
   ],
   "source": [
    "from util.models import RecommendResult, Dataset\n",
    "from src.base_recommender import BaseRecommender\n",
    "from collections import defaultdict\n",
    "import numpy as np\n",
    "\n",
    "np.random.seed(0)\n",
    "\n",
    "\n",
    "class RandomRecommender(BaseRecommender):\n",
    "    def recommend(self, dataset: Dataset, **kwargs) -> RecommendResult:\n",
    "        # 사용자 ID와 아이템 ID에 대해 0부터 시작하는 인덱스를 할당한다\n",
    "        unique_user_ids = sorted(dataset.train.user_id.unique())\n",
    "        unique_movie_ids = sorted(dataset.train.movie_id.unique())\n",
    "        user_id2index = dict(zip(unique_user_ids, range(len(unique_user_ids))))\n",
    "        movie_id2index = dict(zip(unique_movie_ids, range(len(unique_movie_ids))))\n",
    "\n",
    "        # 사용자 x 아이템의 행렬에서 각 셀의 예측 평갓값은 0.5~5.0의 균등 난수로 한다\n",
    "        pred_matrix = np.random.uniform(0.5, 5.0, (len(unique_user_ids), len(unique_movie_ids)))\n",
    "\n",
    "        # rmse 평가용으로 테스트 데이터에 나오는 사용자와 아이템의 예측 평갓값을 저장한다\n",
    "        movie_rating_predict = dataset.test.copy()\n",
    "        pred_results = []\n",
    "        for i, row in dataset.test.iterrows():\n",
    "            user_id = row[\"user_id\"]\n",
    "            # 테스트 데이터의 아이템 ID가 학습용으로 등장하지 않는 경우도 난수를 저장한다\n",
    "            if row[\"movie_id\"] not in movie_id2index:\n",
    "                pred_results.append(np.random.uniform(0.5, 5.0))\n",
    "                continue\n",
    "            # 테스트 데이터에 나타나는 사용자 ID와 아이템 ID의 인덱스를 얻어, 평갓값 행렬값을 얻는다\n",
    "            user_index = user_id2index[row[\"user_id\"]]\n",
    "            movie_index = movie_id2index[row[\"movie_id\"]]\n",
    "            pred_score = pred_matrix[user_index, movie_index]\n",
    "            pred_results.append(pred_score)\n",
    "        movie_rating_predict[\"rating_pred\"] = pred_results\n",
    "\n",
    "        # 순위 평가용 데이터 작성\n",
    "        # 각 사용자에 대한 추천 영화는, 해당 사용자가 아직 평가하지 않은 영화 중에서 무작위로 10개 작품으로 한다\n",
    "        # 키는 사용자 ID, 값은 추천 아이템의 ID 리스트\n",
    "        pred_user2items = defaultdict(list)\n",
    "        # 사용자가 이미 평가한 영화를 저장한다\n",
    "        user_evaluated_movies = dataset.train.groupby(\"user_id\").agg({\"movie_id\": list})[\"movie_id\"].to_dict()\n",
    "        for user_id in unique_user_ids:\n",
    "            user_index = user_id2index[user_id]\n",
    "            movie_indexes = np.argsort(-pred_matrix[user_index, :])\n",
    "            for movie_index in movie_indexes:\n",
    "                movie_id = unique_movie_ids[movie_index]\n",
    "                if movie_id not in user_evaluated_movies[user_id]:\n",
    "                    pred_user2items[user_id].append(movie_id)\n",
    "                if len(pred_user2items[user_id]) == 10:\n",
    "                    break\n",
    "        return RecommendResult(movie_rating_predict.rating_pred, pred_user2items)\n",
    "\n",
    "\n",
    "if __name__ == \"__main__\":\n",
    "    RandomRecommender().run_sample()"
   ]
  },
  {
   "cell_type": "markdown",
   "id": "db881444-6556-43e7-8b13-332258579222",
   "metadata": {},
   "source": [
    "- Precision@K, Recall@K가 0에 가까우며 적절하게 추천되지 않았음을 알 수 있음\n",
    "- 무작위로 영화를 추천해도 그것을 선호할 가능성이 없음을 나타냄\n",
    "- 다음 절 부터는 사용자가 선호하는 영화를 추천하는 방법에 대해 알아봄"
   ]
  },
  {
   "cell_type": "code",
   "execution_count": null,
   "id": "2a213d83-5612-4afd-a963-b83611ec7cad",
   "metadata": {},
   "outputs": [],
   "source": []
  }
 ],
 "metadata": {
  "kernelspec": {
   "display_name": "Python 3 (ipykernel)",
   "language": "python",
   "name": "python3"
  },
  "language_info": {
   "codemirror_mode": {
    "name": "ipython",
    "version": 3
   },
   "file_extension": ".py",
   "mimetype": "text/x-python",
   "name": "python",
   "nbconvert_exporter": "python",
   "pygments_lexer": "ipython3",
   "version": "3.11.3"
  }
 },
 "nbformat": 4,
 "nbformat_minor": 5
}
